{
 "cells": [
  {
   "cell_type": "markdown",
   "id": "2a6cf549",
   "metadata": {},
   "source": [
    "This notebook serves as template for the calculation of the results presented in the paper \"*Python-based User-defined Lifecycle Product Optimization” (PULPO 🐙) framework: Application to carbon capture and utilization in green methanol production*\"."
   ]
  },
  {
   "cell_type": "markdown",
   "id": "0e6bc613",
   "metadata": {},
   "source": [
    "In this specific notebook, one optimization is performed based on the users specification of (scenario/year/electricity bound)"
   ]
  },
  {
   "cell_type": "markdown",
   "id": "3a47393d",
   "metadata": {},
   "source": [
    "### Import Section"
   ]
  },
  {
   "cell_type": "code",
   "execution_count": null,
   "id": "286a31aa",
   "metadata": {},
   "outputs": [],
   "source": [
    "import os\n",
    "import sys\n",
    "sys.path.append('..')\n",
    "from pulpo import pulpo\n",
    "import pandas as pd\n",
    "pd.set_option('display.max_colwidth', None)"
   ]
  },
  {
   "cell_type": "markdown",
   "id": "d855cbea",
   "metadata": {},
   "source": [
    "### Setup"
   ]
  },
  {
   "cell_type": "code",
   "execution_count": null,
   "id": "7f098f5c",
   "metadata": {},
   "outputs": [],
   "source": [
    "# Specify the project and database names as well as the impact to minimize\n",
    "project = \"PULPO Methanol Case\"\n",
    "scenario = \"PkBudg500\"\n",
    "year = \"2040\"\n",
    "database = \"ecoinvent_cutoff_3.8_remind_SSP2-\" + scenario + \"_\" + year\n",
    "method = {\"('IPCC 2013', 'climate change', 'GWP 100a, incl. H and bio CO2')\": 1,\n",
    "         \"('ReCiPe Endpoint (H,A)', 'total', 'total')\": 0,\n",
    "         \"('ReCiPe Endpoint (H,A)', 'ecosystem quality', 'total')\": 0,\n",
    "         \"('ReCiPe Endpoint (H,A)', 'resources', 'total')\": 0,\n",
    "         \"('ReCiPe Endpoint (H,A)', 'human health', 'total')\": 0,\n",
    "         \"('EF v3.0', 'acidification', 'accumulated exceedance (ae)')\": 0,\n",
    "         \"('EF v3.0', 'ecotoxicity: freshwater', 'comparative toxic unit for ecosystems (CTUe) ')\": 0,\n",
    "         \"('EF v3.0', 'energy resources: non-renewable', 'abiotic depletion potential (ADP): fossil fuels')\":0,\n",
    "         \"('EF v3.0', 'eutrophication: freshwater', 'fraction of nutrients reaching freshwater end compartment (P)')\":0,\n",
    "         \"('EF v3.0', 'eutrophication: marine', 'fraction of nutrients reaching marine end compartment (N)')\":0,\n",
    "         \"('EF v3.0', 'eutrophication: terrestrial', 'accumulated exceedance (AE) ')\":0,\n",
    "         \"('EF v3.0', 'human toxicity: carcinogenic', 'comparative toxic unit for human (CTUh) ')\":0,\n",
    "         \"('EF v3.0', 'human toxicity: non-carcinogenic', 'comparative toxic unit for human (CTUh) ')\":0,\n",
    "         \"('EF v3.0', 'ionising radiation: human health', 'human exposure efficiency relative to u235')\":0,\n",
    "         \"('EF v3.0', 'land use', 'soil quality index')\":0,\n",
    "         \"('EF v3.0', 'material resources: metals/minerals', 'abiotic depletion potential (ADP): elements (ultimate reserves)')\":0,\n",
    "         \"('EF v3.0', 'ozone depletion', 'ozone depletion potential (ODP) ')\":0,\n",
    "         \"('EF v3.0', 'particulate matter formation', 'impact on human health')\":0,\n",
    "         \"('EF v3.0', 'photochemical ozone formation: human health', 'tropospheric ozone concentration increase')\":0,\n",
    "         \"('EF v3.0', 'water use', 'user deprivation potential (deprivation-weighted water consumption)')\":0}\n",
    "\n",
    "# Substitute with your working directory of choice\n",
    "notebook_dir = os.path.dirname(os.getcwd())\n",
    "directory = os.path.join(notebook_dir, 'data')\n",
    "\n",
    "# Substitute with your GAMS path\n",
    "GAMS_PATH = \"C:/GAMS/37/gams.exe\""
   ]
  },
  {
   "cell_type": "markdown",
   "id": "a614a408",
   "metadata": {},
   "source": [
    "Create a pulpo object called \"pulpo_worker\" 🐙"
   ]
  },
  {
   "cell_type": "code",
   "execution_count": null,
   "id": "a47d0da6",
   "metadata": {},
   "outputs": [],
   "source": [
    "pulpo_worker = pulpo.PulpoOptimizer(project, database, method, directory)"
   ]
  },
  {
   "cell_type": "markdown",
   "id": "47df8112",
   "metadata": {},
   "source": [
    "Retrieve the data (*from brightway2*). If data is already loaded, this step is automatically skipped. "
   ]
  },
  {
   "cell_type": "code",
   "execution_count": null,
   "id": "88927105",
   "metadata": {},
   "outputs": [],
   "source": [
    "pulpo_worker.get_lci_data()"
   ]
  },
  {
   "cell_type": "markdown",
   "id": "ce7fe909",
   "metadata": {},
   "source": [
    "### Specify FU"
   ]
  },
  {
   "cell_type": "code",
   "execution_count": null,
   "id": "e043c94f",
   "metadata": {},
   "outputs": [],
   "source": [
    "reference_products=[\"electricity, high voltage\"] # 💡\n",
    "activities = [\"market group for electricity, high voltage\"] # 📊\n",
    "locations = [\"CAZ\",\"USA\",\"NEU\",\"SSA\",\"EUR\",\"IND\",\"LAM\",\"OAS\",\"REF\",\"MEA\",\"CHA\",\"JPN\"] # 🌎"
   ]
  },
  {
   "cell_type": "code",
   "execution_count": null,
   "id": "cb5d2dbb",
   "metadata": {},
   "outputs": [],
   "source": [
    "elec_markets = pulpo_worker.retrieve_activities(reference_products=reference_products, activities=activities, locations=locations)"
   ]
  },
  {
   "cell_type": "code",
   "execution_count": null,
   "id": "7abefab2",
   "metadata": {},
   "outputs": [],
   "source": [
    "meoh_market = pulpo_worker.retrieve_activities(activities=[\"new market for methanol\"]) # 🧪📊"
   ]
  },
  {
   "cell_type": "markdown",
   "id": "e1ed5045",
   "metadata": {},
   "source": [
    "*IMPORTANT*: This step requires as an input decrypted IAM output files. The encrypted files are storred within the premise package. To decrypt them, the same key as for the premise installation is required. The notebook \"decrypt_iam_output.ipynb\" shows how to do that."
   ]
  },
  {
   "cell_type": "code",
   "execution_count": null,
   "id": "c9de4073",
   "metadata": {},
   "outputs": [],
   "source": [
    "notebook_dir = os.path.dirname(os.getcwd())\n",
    "input_path = os.path.join(notebook_dir, 'data\\\\raw\\\\decrypted\\\\')\n",
    "iam_output = pd.read_csv(input_path + 'decrypted_remind_SSP2-' + scenario + '.csv')\n",
    "filtered_df = iam_output[iam_output['Variable'] == 'SE|Electricity'].loc[:, ['Region', year]]"
   ]
  },
  {
   "cell_type": "code",
   "execution_count": null,
   "id": "038f96b8",
   "metadata": {},
   "outputs": [],
   "source": [
    "elec_supply = {filtered_df['Region'][ind]: filtered_df[year][ind]/3.6E-12 for ind in filtered_df.index if filtered_df['Region'][ind] != 'World'}"
   ]
  },
  {
   "cell_type": "code",
   "execution_count": null,
   "id": "0cf99deb",
   "metadata": {},
   "outputs": [],
   "source": [
    "demand = {meoh_market[0]: 100e9}"
   ]
  },
  {
   "cell_type": "markdown",
   "id": "46cba1d0",
   "metadata": {},
   "source": [
    "### Choices"
   ]
  },
  {
   "cell_type": "markdown",
   "id": "5401636f",
   "metadata": {},
   "source": [
    "**Methanol 🧪 production**, retrieve all the synthesis processes, using DAC and PSC"
   ]
  },
  {
   "cell_type": "code",
   "execution_count": null,
   "id": "15f80fe4",
   "metadata": {},
   "outputs": [],
   "source": [
    "activities = [\"methanol synthesis, hydrogen from electrolysis, CO2 from DAC\", \"methanol synthesis, hydrogen from electrolysis, CO2 from point-source\"]\n",
    "locations = [\"CAZ\",\"USA\",\"NEU\",\"SSA\",\"EUR\",\"IND\",\"LAM\",\"OAS\",\"REF\",\"MEA\",\"CHA\",\"JPN\"]\n",
    "meoh_choices = pulpo_worker.retrieve_activities(activities=activities, locations=locations)\n",
    "meoh_choices.append(pulpo_worker.retrieve_activities(activities=[\"methanol production\"], locations=[\"GLO\"])[0])\n",
    "meoh_choices.append(pulpo_worker.retrieve_activities(reference_products=[\"methanol\"], activities=[\"synthetic fuel production, from coal, high temperature Fisher-Tropsch operations\"], locations=[\"ZA\"])[0])"
   ]
  },
  {
   "cell_type": "markdown",
   "id": "01bd7d5f",
   "metadata": {},
   "source": [
    "**Electricity 💡 retrofitting**, for selected fossil thermal powerplants"
   ]
  },
  {
   "cell_type": "code",
   "execution_count": null,
   "id": "bbc812de",
   "metadata": {},
   "outputs": [],
   "source": [
    "pp_name = ['electricity production, hard coal',\n",
    "           'electricity production, hard coal, conventional',\n",
    "           'electricity production, hard coal, supercritical',\n",
    "           'heat and power co-generation, hard coal',\n",
    "           'electricity production, lignite',\n",
    "           'heat and power co-generation, lignite',\n",
    "           'electricity production, natural gas, conventional power plant',\n",
    "           'electricity production, natural gas, combined cycle power plant',\n",
    "           'heat and power co-generation, natural gas, conventional power plant, 100MW electrical',\n",
    "           'heat and power co-generation, natural gas, combined cycle power plant, 400MW electrical']\n",
    "pp_name = [name + ', retrofitting with CC' for name in pp_name]"
   ]
  },
  {
   "cell_type": "code",
   "execution_count": null,
   "id": "811a0b2b",
   "metadata": {},
   "outputs": [],
   "source": [
    "# Retrieve all retrofitting activities and create a searchable list\n",
    "retrofit_activities = pulpo_worker.retrieve_activities(activities=pp_name)\n",
    "retrofit_activities_list = [[act['name'], act['location'], act['reference product']] for act in retrofit_activities]"
   ]
  },
  {
   "cell_type": "code",
   "execution_count": null,
   "id": "47df80cc",
   "metadata": {},
   "outputs": [],
   "source": [
    "# Retrieve all the activities that have the same names as the retrofitting ones, but without CC\n",
    "act_orig_names = [act['name'].replace(', retrofitting with CC','') for act in retrofit_activities]\n",
    "act_orig_raw = pulpo_worker.retrieve_activities(activities=act_orig_names)"
   ]
  },
  {
   "cell_type": "code",
   "execution_count": null,
   "id": "199dd765",
   "metadata": {},
   "outputs": [],
   "source": [
    "# Filter that list to only include the correct types of plant in the correct region\n",
    "original_activities = [act for act in act_orig_raw if [act['name']+', retrofitting with CC', act['location'], act['reference product']] in retrofit_activities_list]"
   ]
  },
  {
   "cell_type": "code",
   "execution_count": null,
   "id": "223c5b8b",
   "metadata": {},
   "outputs": [],
   "source": [
    "# Match the non-CC and the CC activities in one dictionary\n",
    "n= 0\n",
    "retrofit_choices = {}\n",
    "for act in retrofit_activities: \n",
    "    j = 0\n",
    "    while [act['name'], act['location'], act['reference product']] != [original_activities[j]['name']+', retrofitting with CC', original_activities[j]['location'], original_activities[j]['reference product']]:     \n",
    "            j+=1\n",
    "    retrofit_choices[str(n)] = [act, original_activities[j]]\n",
    "    n+=1"
   ]
  },
  {
   "cell_type": "code",
   "execution_count": null,
   "id": "a10ed5c9",
   "metadata": {},
   "outputs": [],
   "source": [
    "choices  = {n: {retrofit_choices[n][0]: 1e20,\n",
    "                retrofit_choices[n][1]: 1e20} for n in retrofit_choices}\n",
    "choices['methanol'] = {act: 1e20 for act in meoh_choices}"
   ]
  },
  {
   "cell_type": "markdown",
   "id": "77b0a48b",
   "metadata": {},
   "source": [
    "### Constraints"
   ]
  },
  {
   "cell_type": "code",
   "execution_count": null,
   "id": "0aaba3d6",
   "metadata": {},
   "outputs": [],
   "source": [
    "elec_bound = 0"
   ]
  },
  {
   "cell_type": "code",
   "execution_count": null,
   "id": "4931670c",
   "metadata": {},
   "outputs": [],
   "source": [
    "upper_bound = {elec_market: elec_supply[elec_market['location']]*(1+elec_bound) for elec_market in elec_markets}\n",
    "lower_bound = {elec_market: elec_supply[elec_market['location']] for elec_market in elec_markets}"
   ]
  },
  {
   "cell_type": "markdown",
   "id": "5627ec38",
   "metadata": {},
   "source": [
    "### Instantiate and Solve (BASE CASE)"
   ]
  },
  {
   "cell_type": "markdown",
   "id": "8e2d7874",
   "metadata": {},
   "source": [
    "Prior to solving the optimization problem involving the choices and the electricity capacity extension, the reference situation (BASE CASE) must be calculated. This case corresponds to the situation where **exactly** the forecasted electricity is supplied (via the PULPO functionality of fixing a supply), as well as the demand for methanol."
   ]
  },
  {
   "cell_type": "markdown",
   "id": "f2382ab8",
   "metadata": {},
   "source": [
    "##### only methanol 🧪:"
   ]
  },
  {
   "cell_type": "code",
   "execution_count": null,
   "id": "fff14472",
   "metadata": {},
   "outputs": [],
   "source": [
    "pulpo_worker.instantiate(choices={}, methods=method, demand=demand, upper_limit=upper_bound)"
   ]
  },
  {
   "cell_type": "code",
   "execution_count": null,
   "id": "d2ec5b68",
   "metadata": {},
   "outputs": [],
   "source": [
    "results = pulpo_worker.solve(GAMS_PATH=GAMS_PATH)"
   ]
  },
  {
   "cell_type": "code",
   "execution_count": null,
   "id": "3e4eee4f",
   "metadata": {},
   "outputs": [],
   "source": [
    "reference_meoh_GWP = pulpo_worker.instance.OBJ()\n",
    "pulpo_worker.save_results(choices={}, demand=demand, name='meoh_only_meoh.xlsx')"
   ]
  },
  {
   "cell_type": "markdown",
   "id": "d34a4077",
   "metadata": {},
   "source": [
    "##### methanol 🧪 and elec 💡:"
   ]
  },
  {
   "cell_type": "code",
   "execution_count": null,
   "id": "5c0bbf61",
   "metadata": {},
   "outputs": [],
   "source": [
    "pulpo_worker.instantiate(choices={}, methods=method, demand=demand, lower_limit=lower_bound, upper_limit=upper_bound)"
   ]
  },
  {
   "cell_type": "code",
   "execution_count": null,
   "id": "f98c6a9d",
   "metadata": {
    "scrolled": true
   },
   "outputs": [],
   "source": [
    "results = pulpo_worker.solve(GAMS_PATH=GAMS_PATH)"
   ]
  },
  {
   "cell_type": "code",
   "execution_count": null,
   "id": "3bd24040",
   "metadata": {},
   "outputs": [],
   "source": [
    "pulpo_worker.save_results(choices={}, demand=demand, name='meoh_with_elec.xlsx')"
   ]
  },
  {
   "cell_type": "code",
   "execution_count": null,
   "id": "14d4be5d",
   "metadata": {},
   "outputs": [],
   "source": [
    "reference_GWP = pulpo_worker.instance.OBJ()"
   ]
  },
  {
   "cell_type": "code",
   "execution_count": null,
   "id": "341fe830",
   "metadata": {},
   "outputs": [],
   "source": [
    "try:\n",
    "    reference_elec = sum(pulpo_worker.instance.scaling_vector[pulpo_worker.lci_data['activity_map'][x]].value for x in elec_markets)\n",
    "except: \n",
    "    reference_elec = sum(pulpo_worker.instance.scaling_vector[pulpo_worker.lci_data['activity_map'][x]] for x in elec_markets)"
   ]
  },
  {
   "cell_type": "markdown",
   "id": "d48a9b13",
   "metadata": {},
   "source": [
    "This result serves as a reference for the subsequent optimization. Moreover, the slack variables for the electricity supply are used as the new final demand. "
   ]
  },
  {
   "cell_type": "markdown",
   "id": "8512584a",
   "metadata": {},
   "source": [
    "### Instantiate and Solve (WITH CHOICES 🕸️)"
   ]
  },
  {
   "cell_type": "markdown",
   "id": "8cc6e9b3",
   "metadata": {},
   "source": [
    "First, specify the percentual increase in electricity that is to be evaluated:"
   ]
  },
  {
   "cell_type": "code",
   "execution_count": null,
   "id": "a392c432",
   "metadata": {},
   "outputs": [],
   "source": [
    "elec_bound = 0.00"
   ]
  },
  {
   "cell_type": "markdown",
   "id": "30388a84",
   "metadata": {},
   "source": [
    "Specify the final demand of electricity calculated from the BASE CASE, as well as the methanol demand."
   ]
  },
  {
   "cell_type": "code",
   "execution_count": null,
   "id": "97227b59",
   "metadata": {},
   "outputs": [],
   "source": [
    "try:\n",
    "    final_electricity_demand = {x: pulpo_worker.instance.slack[x].value for x in pulpo_worker.instance.slack}\n",
    "except:\n",
    "    final_electricity_demand = {x: pulpo_worker.instance.slack[x] for x in pulpo_worker.instance.slack}\n",
    "demand = {x: final_electricity_demand[pulpo_worker.lci_data['activity_map'][x]] for x in elec_markets}\n",
    "demand[meoh_market[0]] = 100e9"
   ]
  },
  {
   "cell_type": "markdown",
   "id": "71ebf33a",
   "metadata": {},
   "source": [
    "Specifiy that the CO2 markets may not take on negative values as this would \"destroy\" CO2."
   ]
  },
  {
   "cell_type": "code",
   "execution_count": null,
   "id": "5d47fb53",
   "metadata": {},
   "outputs": [],
   "source": [
    "carbon_markets = pulpo_worker.retrieve_activities(activities=[\"carbon dioxide, captured from point-source\"])\n",
    "lower_bound_carbon = {carbon_market: 0 for carbon_market in carbon_markets}"
   ]
  },
  {
   "cell_type": "markdown",
   "id": "aa0afdb7",
   "metadata": {},
   "source": [
    "Specify the lower and upper bounds on the electricity supply"
   ]
  },
  {
   "cell_type": "code",
   "execution_count": null,
   "id": "32f5477b",
   "metadata": {},
   "outputs": [],
   "source": [
    "upper_bound = {elec_market: elec_supply[elec_market['location']]*(1+elec_bound) for elec_market in elec_markets}\n",
    "lower_bound = {elec_market: elec_supply[elec_market['location']] for elec_market in elec_markets}\n",
    "lower_bound.update(lower_bound_carbon)"
   ]
  },
  {
   "cell_type": "code",
   "execution_count": null,
   "id": "5dcf8cbe",
   "metadata": {},
   "outputs": [],
   "source": [
    "pulpo_worker.instantiate(choices=choices, methods=method, demand=demand, lower_limit=lower_bound, upper_limit=upper_bound)"
   ]
  },
  {
   "cell_type": "code",
   "execution_count": null,
   "id": "8cd7f224",
   "metadata": {
    "scrolled": true
   },
   "outputs": [],
   "source": [
    "results = pulpo_worker.solve(GAMS_PATH=GAMS_PATH)"
   ]
  },
  {
   "cell_type": "code",
   "execution_count": null,
   "id": "e7fdf235",
   "metadata": {},
   "outputs": [],
   "source": [
    "pulpo_worker.save_results(choices=choices, demand=demand, name='meoh_results.xlsx')"
   ]
  },
  {
   "cell_type": "markdown",
   "id": "8e13455f",
   "metadata": {},
   "source": [
    "Calculate the GWP reduction of the optimized case with the base case:"
   ]
  },
  {
   "cell_type": "code",
   "execution_count": null,
   "id": "dddfcae6",
   "metadata": {},
   "outputs": [],
   "source": [
    "optimal_GWP = pulpo_worker.instance.OBJ()"
   ]
  },
  {
   "cell_type": "code",
   "execution_count": null,
   "id": "3832d552",
   "metadata": {},
   "outputs": [],
   "source": [
    "gwp_reduction = (reference_GWP-optimal_GWP)*0.000000001"
   ]
  },
  {
   "cell_type": "code",
   "execution_count": null,
   "id": "f52184a2",
   "metadata": {},
   "outputs": [],
   "source": [
    "print(str(round((optimal_GWP-reference_GWP)*0.000000001,2)) + ' MT')"
   ]
  },
  {
   "cell_type": "markdown",
   "id": "940fdf44",
   "metadata": {},
   "source": [
    "### Save the results 📊"
   ]
  },
  {
   "cell_type": "code",
   "execution_count": null,
   "id": "e994faa6",
   "metadata": {},
   "outputs": [],
   "source": [
    "try:\n",
    "    optimized_elec = sum(pulpo_worker.instance.scaling_vector[pulpo_worker.lci_data['activity_map'][x]].value for x in elec_markets)\n",
    "except:\n",
    "    optimized_elec = sum(pulpo_worker.instance.scaling_vector[pulpo_worker.lci_data['activity_map'][x]] for x in elec_markets)"
   ]
  },
  {
   "cell_type": "markdown",
   "id": "def0322f",
   "metadata": {},
   "source": [
    "Create dataframe with proper information:"
   ]
  },
  {
   "cell_type": "code",
   "execution_count": null,
   "id": "9909ac6e",
   "metadata": {},
   "outputs": [],
   "source": [
    "meoh_production = {}\n",
    "location_mapping = {\n",
    "    'GLO': ('methanol production', 'BAU'),\n",
    "    'ZA': ('Fischer Tropsch', '-'),\n",
    "}\n",
    "\n",
    "i = 0\n",
    "for choice in choices['methanol']:\n",
    "    region = choice['location']\n",
    "    factor = 1 if region == 'GLO' else 0\n",
    "    try:\n",
    "            impacts = {x: factor*pulpo_worker.instance.impacts[x].value for x in pulpo_worker.instance.impacts}\n",
    "    except:\n",
    "            impacts = {x: factor*pulpo_worker.instance.impacts[x] for x in pulpo_worker.instance.impacts}\n",
    "    if region == 'GLO':\n",
    "        region, tech = location_mapping[region]\n",
    "        elec = (optimized_elec - reference_elec) / 1e9\n",
    "        net_zero = reference_meoh_GWP / 1e9\n",
    "        gwp = gwp_reduction\n",
    "    elif 'DAC' in choice['name']:\n",
    "        tech = 'DAC'\n",
    "        elec, net_zero, gwp = 0, 0, 0\n",
    "    elif 'point-source' in choice['name']:\n",
    "        tech = 'PSC' \n",
    "        elec, net_zero, gwp = 0, 0, 0\n",
    "    if region != 'ZA':\n",
    "        try:\n",
    "            value = pulpo_worker.instance.scaling_vector[pulpo_worker.lci_data['activity_map'][choice]].value * 0.000000001\n",
    "        except:\n",
    "            value = pulpo_worker.instance.scaling_vector[pulpo_worker.lci_data['activity_map'][choice]] * 0.000000001\n",
    "        meoh_production[i] = {**{\n",
    "            'scenario': scenario,\n",
    "            'year': int(year),\n",
    "            'epsilon [%]': str(round(elec_bound*100,3)),\n",
    "            'region': region,\n",
    "            'tech': tech,\n",
    "            'meoh [Mt]': value,\n",
    "            'elec [TWh]': elec,\n",
    "            'net-zero GWP [Mt]': net_zero,\n",
    "            'GWP reduction [Mt]': gwp\n",
    "        }, **impacts}\n",
    "        i += 1"
   ]
  },
  {
   "cell_type": "markdown",
   "id": "4944879c",
   "metadata": {},
   "source": [
    "Function for appending the dataframe to the already calculated results:"
   ]
  },
  {
   "cell_type": "code",
   "execution_count": null,
   "id": "02ec8ce3",
   "metadata": {},
   "outputs": [],
   "source": [
    "def save_to_excel(dataframe, file_path):\n",
    "    if not os.path.isfile(file_path):\n",
    "        # If the Excel file doesn't exist, create a new one\n",
    "        dataframe.to_excel(file_path, index=False)\n",
    "    else:\n",
    "        # If the Excel file already exists, check if the data is already present\n",
    "        existing_data = pd.read_excel(file_path)\n",
    "        existing_combinations = set(zip(existing_data[\"scenario\"], existing_data[\"year\"], existing_data[\"epsilon [%]\"]))\n",
    "        new_combinations = set(zip(dataframe[\"scenario\"], dataframe[\"year\"], dataframe[\"epsilon [%]\"]))\n",
    "        \n",
    "        if not any(combination in existing_combinations for combination in new_combinations):\n",
    "            # Append the new data to the existing Excel file\n",
    "            with pd.ExcelWriter(file_path, engine='openpyxl', mode='a', if_sheet_exists='replace') as writer:\n",
    "                pd.concat([existing_data, dataframe], ignore_index=True).to_excel(writer, index=False, sheet_name='Sheet1')"
   ]
  },
  {
   "cell_type": "markdown",
   "id": "928f6734",
   "metadata": {},
   "source": [
    "Save results:"
   ]
  },
  {
   "cell_type": "code",
   "execution_count": null,
   "id": "c0a8ec8c",
   "metadata": {},
   "outputs": [],
   "source": [
    "data = pd.DataFrame(meoh_production).transpose()"
   ]
  },
  {
   "cell_type": "code",
   "execution_count": null,
   "id": "b9f6878b",
   "metadata": {},
   "outputs": [],
   "source": [
    "# File path where you want to save the results\n",
    "file_path = directory + \"\\\\results\\\\results_meoh_case_other_ind.xlsx\"\n",
    "# Call the function to save the DataFrame\n",
    "save_to_excel(data, file_path)"
   ]
  },
  {
   "cell_type": "code",
   "execution_count": null,
   "id": "9aaba689",
   "metadata": {},
   "outputs": [],
   "source": [
    "(optimized_elec-reference_elec)"
   ]
  },
  {
   "cell_type": "markdown",
   "id": "64d589c3",
   "metadata": {},
   "source": [
    "### Loop"
   ]
  },
  {
   "cell_type": "code",
   "execution_count": null,
   "id": "0c03e69f",
   "metadata": {},
   "outputs": [],
   "source": [
    "import numpy as np"
   ]
  },
  {
   "cell_type": "code",
   "execution_count": null,
   "id": "452d5fdb",
   "metadata": {},
   "outputs": [],
   "source": [
    "for bound in np.linspace(0.0005,0.025,50):\n",
    "    bound = round(bound,4)\n",
    "    print(bound)\n",
    "    upper_bound = {elec_market: elec_supply[elec_market['location']]*(1+bound) for elec_market in elec_markets}\n",
    "    pulpo_worker.instantiate(choices=choices, methods=method, demand=demand, lower_limit=lower_bound, upper_limit=upper_bound)\n",
    "    results = pulpo_worker.solve(GAMS_PATH=GAMS_PATH)\n",
    "    optimal_GWP = pulpo_worker.instance.OBJ()\n",
    "    gwp_reduction = (reference_GWP-optimal_GWP)/1e9\n",
    "    try:\n",
    "        optimized_elec = sum(pulpo_worker.instance.scaling_vector[pulpo_worker.lci_data['activity_map'][x]].value for x in elec_markets)\n",
    "    except:\n",
    "        optimized_elec = sum(pulpo_worker.instance.scaling_vector[pulpo_worker.lci_data['activity_map'][x]] for x in elec_markets)\n",
    "    meoh_production = {}\n",
    "    location_mapping = {\n",
    "        'GLO': ('methanol production', 'BAU'),\n",
    "        'ZA': ('Fischer Tropsch', '-'),\n",
    "    }\n",
    "\n",
    "    i = 0\n",
    "    for choice in choices['methanol']:\n",
    "        region = choice['location']\n",
    "        factor = 1 if region == 'GLO' else 0\n",
    "        try:\n",
    "                impacts = {x: factor*pulpo_worker.instance.impacts[x].value for x in pulpo_worker.instance.impacts}\n",
    "        except:\n",
    "                impacts = {x: factor*pulpo_worker.instance.impacts[x] for x in pulpo_worker.instance.impacts}\n",
    "        if region == 'GLO':\n",
    "            region, tech = location_mapping[region]\n",
    "            elec = (optimized_elec - reference_elec) / 1e9\n",
    "            net_zero = reference_meoh_GWP / 1e9\n",
    "            gwp = gwp_reduction\n",
    "        elif 'DAC' in choice['name']:\n",
    "            tech = 'DAC'\n",
    "            elec, net_zero, gwp = 0, 0, 0\n",
    "        elif 'point-source' in choice['name']:\n",
    "            tech = 'PSC' \n",
    "            elec, net_zero, gwp = 0, 0, 0\n",
    "        if region != 'ZA':\n",
    "            try:\n",
    "                value = pulpo_worker.instance.scaling_vector[pulpo_worker.lci_data['activity_map'][choice]].value * 0.000000001\n",
    "            except:\n",
    "                value = pulpo_worker.instance.scaling_vector[pulpo_worker.lci_data['activity_map'][choice]] * 0.000000001\n",
    "            meoh_production[i] = {**{\n",
    "                'scenario': scenario,\n",
    "                'year': int(year),\n",
    "                'epsilon [%]': str(round(bound*100,3)),\n",
    "                'region': region,\n",
    "                'tech': tech,\n",
    "                'meoh [Mt]': value,\n",
    "                'elec [TWh]': elec,\n",
    "                'net-zero GWP [Mt]': net_zero,\n",
    "                'GWP reduction [Mt]': gwp\n",
    "            }, **impacts}\n",
    "            i += 1\n",
    "    data = pd.DataFrame(meoh_production).transpose()\n",
    "    save_to_excel(data, file_path)"
   ]
  },
  {
   "cell_type": "code",
   "execution_count": null,
   "id": "93261220",
   "metadata": {},
   "outputs": [],
   "source": []
  }
 ],
 "metadata": {
  "kernelspec": {
   "display_name": "Python 3 (ipykernel)",
   "language": "python",
   "name": "python3"
  },
  "language_info": {
   "codemirror_mode": {
    "name": "ipython",
    "version": 3
   },
   "file_extension": ".py",
   "mimetype": "text/x-python",
   "name": "python",
   "nbconvert_exporter": "python",
   "pygments_lexer": "ipython3",
   "version": "3.9.18"
  }
 },
 "nbformat": 4,
 "nbformat_minor": 5
}
