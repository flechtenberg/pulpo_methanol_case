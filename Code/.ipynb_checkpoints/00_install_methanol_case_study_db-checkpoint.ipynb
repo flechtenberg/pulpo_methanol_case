{
 "cells": [
  {
   "cell_type": "markdown",
   "id": "d734deeb",
   "metadata": {},
   "source": [
    "('ecoinvent_cutoff_3.8_remind_SSP2-Base_2040', 'b884cd5b80684ffeb3d864766ee48036')"
   ]
  },
  {
   "cell_type": "markdown",
   "id": "3583bab0",
   "metadata": {},
   "source": [
    "Notebook created by Fabian Lechtenberg (*01/02/2023*)\n",
    "Updated: 15/04/2024\n",
    "\n",
    "Goal: Adjust a premise database by introducing the new activities *Methanol from CCU* and *Electricity with CCU*"
   ]
  },
  {
   "cell_type": "markdown",
   "id": "093d67f6",
   "metadata": {},
   "source": [
    "### [0] Import Section"
   ]
  },
  {
   "cell_type": "code",
   "execution_count": null,
   "id": "8615b734",
   "metadata": {},
   "outputs": [],
   "source": [
    "import brightway2 as bw\n",
    "from constructive_geometries import *\n",
    "import pandas as pd"
   ]
  },
  {
   "cell_type": "markdown",
   "id": "4278dea8",
   "metadata": {},
   "source": [
    "Initialize the geomatcher object"
   ]
  },
  {
   "cell_type": "code",
   "execution_count": null,
   "id": "aeaae080",
   "metadata": {},
   "outputs": [],
   "source": [
    "geomatcher = Geomatcher()"
   ]
  },
  {
   "cell_type": "markdown",
   "id": "96a5bfbc",
   "metadata": {},
   "source": [
    "Specify the project and database to work on"
   ]
  },
  {
   "cell_type": "code",
   "execution_count": null,
   "id": "05b4a486",
   "metadata": {},
   "outputs": [],
   "source": [
    "project = 'pulpo_example'\n",
    "database = 'CCU_PkBudg500_2040' \n",
    "bw.projects.set_current(project)\n",
    "eidb = bw.Database(database)\n",
    "biosphere = bw.Database('biosphere3')\n",
    "iam = 'REMIND'"
   ]
  },
  {
   "cell_type": "markdown",
   "id": "97dad5a4",
   "metadata": {},
   "source": [
    "### Functions"
   ]
  },
  {
   "cell_type": "code",
   "execution_count": null,
   "id": "7260bf62",
   "metadata": {},
   "outputs": [],
   "source": [
    "def dataset_for_location(database, dataset_name, dataset_product, locations):\n",
    "    '''\n",
    "    This function filters a list of locations to find the corresponding dataset\n",
    "    If there is no specific dataset for the location, the search moves to supraregional locations\n",
    "    (with 'GLO' being the last one). If no dataset is found, the 'RoW' dataset is used.\n",
    "    '''\n",
    "    datasets_all = [ds for ds in bw.Database(database) if ds['name'] == dataset_name and ds['reference product'] == dataset_product]\n",
    "    print(datasets_all)\n",
    "    datasets_loc = {}\n",
    "    for loc in locations:\n",
    "        dataset = [ds for ds in datasets_all if ds['location'] == loc]\n",
    "        # If there is no specific dataset for the location, search for the supraregional locations:\n",
    "        if len(dataset) == 0:\n",
    "            inter_loc = geomatcher.intersects((iam, loc), biggest_first=False)\n",
    "            for i_loc in [i[1] if type(i)==tuple else i for i in inter_loc]:\n",
    "                dataset = [ds for ds in datasets_all if ds['location'] == i_loc]\n",
    "                if len(dataset) > 0:\n",
    "                    break\n",
    "                else:\n",
    "                    dataset = [ds for ds in datasets_all if ds['location'] == 'RoW']\n",
    "        datasets_loc[loc] = dataset[0]\n",
    "    return datasets_loc"
   ]
  },
  {
   "cell_type": "markdown",
   "id": "2f38def3",
   "metadata": {},
   "source": [
    "### [1] Regions mapping"
   ]
  },
  {
   "cell_type": "markdown",
   "id": "ada1ef00",
   "metadata": {},
   "source": [
    "Tell the geomatcher which ecoinvent regions belong to which IAM region ..."
   ]
  },
  {
   "cell_type": "code",
   "execution_count": null,
   "id": "80ec5f97",
   "metadata": {},
   "outputs": [],
   "source": [
    "regions_match_REMIND = {'LAM': ['AW','AI','AR','AQ','AG','BS','BL','BZ','BM','BO','BR','BB','CL','CO','CR','CU','CW','KY','DM','DO','EC','FK','GD','GT','GY','HN','HT','JM','KN','LC','MF','MX','MS','NI','PA','PE','PR','PY','GS','SV','SR','SX','TC','TT','UY','VC','VE','VG','VI'],\n",
    " 'OAS': ['AF','AS','TF','BD','BN','BT','CK','FJ','FM','GU','ID','IO','KH','KI','KR','LA','LK','MV','MH','MM','MN','MP','MY','NC','NF','NU','NP','NR','PK','PN','PH','PW','PG','KP','PF','SG','SB','TH','TL','TO','TV','UM','VN','VU','WF','WS'],\n",
    " 'SSA': ['AO','BI','BJ','BF','BW','CF','CI','CM','CD','CG','KM','CV','DJ','ER','ET','GA','GH','GN','GM','GW','GQ','KE','LR','LS','MG','ML','MZ','MR','MU','MW','NA','NE','NG','RW','SN','SH','SL','SO','SS','ST','SZ','SC','TD','TG','TZ','UG','ZA','ZM','ZW'],\n",
    " 'EUR': ['AX','AT','BE','BG','CY','CZ','DE','DK','ES','EE','FI','FR','FO','GB','GG','GI','GR','HR','HU','IM','IE','IT','JE','LT','LU','LV','MT','NL','PL','PT','RO','SK','SI','SE'],\n",
    " 'NEU': ['AL','AD','BA','CH','GL','IS','LI','MC','MK','ME','NO','SM','RS','TR','VA'],\n",
    " 'MEA': ['AE','BH','DZ','EG','EH','IR','IQ','IL','JO','KW','LB','LY','MA','OM','PS','QA','SA','SD','SY','TN','YE'],\n",
    " 'REF': ['AM','AZ','BY','GE','KZ','KG','MD','RU','TJ','TM','UA','UZ'],\n",
    " 'CAZ': ['AU','CA','HM','NZ','PM'],\n",
    " 'CHA': ['CN','HK','TW','MO'],\n",
    " 'IND': ['IN'],\n",
    " 'JPN': ['JP'],\n",
    " 'USA': ['US'],\n",
    " 'World': ['GLO', 'RoW']}"
   ]
  },
  {
   "cell_type": "code",
   "execution_count": null,
   "id": "50104871",
   "metadata": {},
   "outputs": [],
   "source": [
    "### REMIND \n",
    "if 'REMIND' not in [i[0][0] for i in geomatcher.items()]:\n",
    "    print('Add REMIND regions to geomatcher items')\n",
    "    geomatcher.add_definitions(regions_match_REMIND, 'REMIND')\n",
    "else:\n",
    "    print('REMIND regions already in geomatcher')"
   ]
  },
  {
   "cell_type": "code",
   "execution_count": null,
   "id": "510b851d",
   "metadata": {},
   "outputs": [],
   "source": [
    "# Map ecoinvent locations to IMAGE regions\n",
    "locs_ei_image_map = {}\n",
    "for loc_ei in [i[0] for i in geomatcher.items()]:\n",
    "    loc_image = geomatcher.intersects(loc_ei, biggest_first=False)\n",
    "    locs_ei_image_map[[loc_ei[1] if type(loc_ei)==tuple else loc_ei][0]] = [y[1] for y in loc_image if y[0] == iam][0]"
   ]
  },
  {
   "cell_type": "markdown",
   "id": "3969f344",
   "metadata": {},
   "source": [
    "Regions to be considered in this example are from the REMIND IAM:"
   ]
  },
  {
   "cell_type": "code",
   "execution_count": null,
   "id": "a1223662",
   "metadata": {},
   "outputs": [],
   "source": [
    "locs = [reg for reg in regions_match_REMIND if reg != 'World']"
   ]
  },
  {
   "cell_type": "markdown",
   "id": "6cc2ad5b",
   "metadata": {},
   "source": [
    "### [2] Parameters for new Activities"
   ]
  },
  {
   "cell_type": "markdown",
   "id": "ed9bf679",
   "metadata": {},
   "source": [
    "This section introduces the relevant parameters for power plants retrofitting. The source is mainly **Volkart et al. 2013**."
   ]
  },
  {
   "cell_type": "code",
   "execution_count": null,
   "id": "3193e8b7",
   "metadata": {},
   "outputs": [],
   "source": [
    "parameters = {'system': {0: 'power_plants_retrofitting',1: 'power_plants_retrofitting',2: 'power_plants_retrofitting',3: 'power_plants_retrofitting',4: 'power_plants_retrofitting',5: 'power_plants_retrofitting',6: 'power_plants_retrofitting',7: 'power_plants_retrofitting',8: 'power_plants_retrofitting',9: 'power_plants_retrofitting',10: 'power_plants_retrofitting',11: 'power_plants_retrofitting'},\n",
    " 'parameter': {0: 'co2_capture_rate',1: 'energy_penalty_coal',2: 'energy_penalty_gas',3: 'water_increase',4: 'mea',5: 'sodium_hydroxide',6: 'activated_carbon',7: 'so2_reduction',8: 'nox_reduction',9: 'pm_reduction',10: 'mea_emissions',11: 'nh3_emissions'},\n",
    " 'value': {0: 0.9,1: 0.08,2: 0.05,3: 0.9,4: 0.000284,5: 0.000304,6: 8.26e-05,7: 0.995,8: 0.025,9: 0.5,10: 6e-06,11: 0.000123},\n",
    " 'units': {0: 'kg CO2 captured/kg CO2 produced',1: '% increase in coal/lignite consumption',2: '% increase in natural gas consumption',3: '% increase in water consumption',4: 'kg/kg CO2 captured',5: 'kg/kg CO2 captured',6: 'kg/kg CO2 captured',7: '% reduction of emissions',8: '% reduction of emissions',9: '% reduction of emissions',10: 'kg/kg CO2 captured',11: 'kg/kg CO2 captured'},\n",
    " 'type': {0: 'scale parameter',1: 'scale parameter',2: 'scale parameter',3: 'scale parameter',4: 'ecoinvent',5: 'ecoinvent',6: 'ecoinvent',7: 'scale parameter',8: 'scale parameter',9: 'scale parameter',10: 'biosphere',11: 'biosphere'},\n",
    " 'name': {0: 'nan',1: 'nan',2: 'nan',3: 'nan',4: 'market for monoethanolamine',5: 'market for sodium hydroxide, without water, in 50% solution state',6: 'market for activated carbon, granular',7: 'nan',8: 'nan',9: 'nan',10: 'biosphere3',11: 'biosphere3'},\n",
    " 'reference product': {0: 'nan',1: 'nan',2: 'nan',3: 'nan',4: 'monoethanolamine',5: 'sodium hydroxide, without water, in 50% solution state',6: 'activated carbon, granular',7: 'nan',8: 'nan',9: 'nan',10: '54fbc219-056c-4156-ae4f-f3a5d598665f',11: '87883a4e-1e3e-4c9d-90c0-f1bea36f8014'},\n",
    " 'reference': {0: 'Volkart et al. 2013, doi:10.1016/j.ijggc.2013.03.003',1: 'Volkart et al. 2013, doi:10.1016/j.ijggc.2013.03.003',2: 'Volkart et al. 2013, doi:10.1016/j.ijggc.2013.03.003',3: 'Global CCS Institute 2016, Available at https://www.globalccsinstitute.com/news-media/insights/water-use-of-thermal-power-plants-equipped-with-co2-capture-systems/',4: 'Volkart et al. 2013, doi:10.1016/j.ijggc.2013.03.003',5: 'Volkart et al. 2013, doi:10.1016/j.ijggc.2013.03.003',6: 'Volkart et al. 2013, doi:10.1016/j.ijggc.2013.03.003',7: 'Volkart et al. 2013, doi:10.1016/j.ijggc.2013.03.003',8: 'Volkart et al. 2013, doi:10.1016/j.ijggc.2013.03.003',9: 'Volkart et al. 2013, doi:10.1016/j.ijggc.2013.03.003',10: 'Volkart et al. 2013, doi:10.1016/j.ijggc.2013.03.003',11: 'Volkart et al. 2013, doi:10.1016/j.ijggc.2013.03.003'}}\n",
    "parameters = pd.DataFrame(parameters)\n",
    "param_pp = {}\n",
    "param_datasets = {}"
   ]
  },
  {
   "cell_type": "code",
   "execution_count": null,
   "id": "b09681a2-c603-46e1-a75d-74d6d396f4cc",
   "metadata": {},
   "outputs": [],
   "source": [
    "parameters"
   ]
  },
  {
   "cell_type": "markdown",
   "id": "c3e82b49",
   "metadata": {},
   "source": [
    "Check our assumptions, perhaps adjust."
   ]
  },
  {
   "cell_type": "code",
   "execution_count": null,
   "id": "cb22aac6",
   "metadata": {
    "scrolled": true
   },
   "outputs": [],
   "source": [
    "parameters"
   ]
  },
  {
   "cell_type": "markdown",
   "id": "f17dd38b",
   "metadata": {},
   "source": [
    "Bring the parameters in a better format"
   ]
  },
  {
   "cell_type": "code",
   "execution_count": null,
   "id": "9ca40c56",
   "metadata": {},
   "outputs": [],
   "source": [
    "for index, row in parameters.iterrows():\n",
    "    if row['system'] == 'power_plants_retrofitting':\n",
    "        param_pp[row['parameter']] = {'value': row['value'], 'units': row['units'], 'type': row['type'], 'dataset': (row['name'], row['reference product']), 'reference': row['reference']}"
   ]
  },
  {
   "cell_type": "markdown",
   "id": "9399befe",
   "metadata": {},
   "source": [
    "Retrieve the datasets corresponding to the mea, sodium hydroxide and activated carbon markets\n"
   ]
  },
  {
   "cell_type": "code",
   "execution_count": null,
   "id": "bd41574f",
   "metadata": {},
   "outputs": [],
   "source": [
    "  # Create dictionary of datasets for each location:\n",
    "for index, row in parameters.iterrows():\n",
    "    if row['type'] == 'ecoinvent':\n",
    "        ds_list = dataset_for_location(database, row['name'], row['reference product'], locs)\n",
    "        param_datasets[row['parameter']] = ds_list"
   ]
  },
  {
   "cell_type": "markdown",
   "id": "17de3b78",
   "metadata": {},
   "source": [
    "### [3.0] Implement <span style=\"color:red\">CO2 markets</span>."
   ]
  },
  {
   "cell_type": "code",
   "execution_count": null,
   "id": "726f5946",
   "metadata": {},
   "outputs": [],
   "source": [
    "locs_no = ['World']\n",
    "co2_ds = [ds for ds in eidb if ds['name']=='carbon dioxide, captured from atmosphere, with a solvent-based direct air capture system, 1MtCO2, with industrial steam heat, and grid electricity' and ds['location'] not in locs_no]"
   ]
  },
  {
   "cell_type": "code",
   "execution_count": null,
   "id": "2ce3c8a6",
   "metadata": {},
   "outputs": [],
   "source": [
    "co2_markets = {}\n",
    "for co2_act in co2_ds:\n",
    "    co2_copy = co2_act.copy(name='carbon dioxide, captured from point-source', location=co2_act['location'])\n",
    "    co2_copy.save()\n",
    "    for exc in co2_copy.exchanges():\n",
    "        if exc.input['name'] != 'carbon dioxide, captured from point-source':\n",
    "            exc.delete()\n",
    "            co2_copy.save()   \n",
    "    co2_markets[co2_copy['location']] = co2_copy"
   ]
  },
  {
   "cell_type": "markdown",
   "id": "89d5862c",
   "metadata": {},
   "source": [
    "### [3.1] Implement <span style=\"color:orange\">Thermal Fossil Powerplants with CCU</span>."
   ]
  },
  {
   "cell_type": "code",
   "execution_count": null,
   "id": "6254788d",
   "metadata": {},
   "outputs": [],
   "source": [
    "# Name of ecoinvent datasets for thermal power plants\n",
    "pp_name = ['electricity production, hard coal',\n",
    "           'electricity production, hard coal, conventional',\n",
    "           'electricity production, hard coal, supercritical',\n",
    "           'heat and power co-generation, hard coal',\n",
    "           'electricity production, lignite',\n",
    "           'heat and power co-generation, lignite',\n",
    "           'electricity production, natural gas, conventional power plant',\n",
    "           'electricity production, natural gas, combined cycle power plant',\n",
    "           'heat and power co-generation, natural gas, conventional power plant, 100MW electrical',\n",
    "           'heat and power co-generation, natural gas, combined cycle power plant, 400MW electrical']"
   ]
  },
  {
   "cell_type": "code",
   "execution_count": null,
   "id": "69f62d7a",
   "metadata": {},
   "outputs": [],
   "source": [
    "# Find electricity markets\n",
    "locs_no = ['World']\n",
    "elec_markets = [ds for ds in bw.Database(database) if ds['name'] == 'market group for electricity, high voltage' \n",
    "                                                      and ds['reference product'] == 'electricity, high voltage'\n",
    "                                                      and len(ds.technosphere()) > 1\n",
    "                                                      and ds['location'] not in locs_no]"
   ]
  },
  {
   "cell_type": "code",
   "execution_count": null,
   "id": "30e6ad43",
   "metadata": {},
   "outputs": [],
   "source": [
    "# Ecoinvent datasets for thermal power plants without carbon capture. Look into the electricity market of each region\n",
    "locs_no = ['RoW']\n",
    "pp_ds = list(set([bw.Database(database).get(exc['input'][1]) for ds in elec_markets for exc in ds.technosphere() \n",
    "                  if exc['name'] in pp_name \n",
    "                  and bw.Database(database).get(exc['input'][1])['reference product'] == 'electricity, high voltage'\n",
    "                  and exc['location'] not in locs_no]))"
   ]
  },
  {
   "cell_type": "code",
   "execution_count": null,
   "id": "2d791a6b",
   "metadata": {
    "scrolled": true
   },
   "outputs": [],
   "source": [
    "# Create copies of fossil thermal powerplants and introduce parameters\n",
    "i=0\n",
    "locs_no = ['World']\n",
    "for tech in pp_ds:\n",
    "    print(tech['name'])\n",
    "    if locs_ei_image_map[tech['location']] != 'World':\n",
    "        tech_copy = tech.copy(name=tech['name'] + ', retrofitting with CC')\n",
    "\n",
    "        # Update existing technosphere exchanges:\n",
    "        for exc_ds in tech_copy.technosphere(): \n",
    "            # Apply energy penalty to the amount of fuel consumed and apply water consumption increase:\n",
    "            if exc_ds['name'] in ['market for hard coal', 'market for lignite']:\n",
    "                exc_ds['amount'] = exc_ds['amount'] * (1 + param_pp['energy_penalty_coal']['value'])\n",
    "            elif exc_ds['name'] in ['market for natural gas, high pressure', 'market group for natural gas, high pressure']:\n",
    "                exc_ds['amount'] = exc_ds['amount'] * (1 + param_pp['energy_penalty_gas']['value'])\n",
    "            elif exc_ds['name'] in ['market for water, decarbonised']:\n",
    "                exc_ds['amount'] = exc_ds['amount'] * (1 + param_pp['water_increase']['value'])\n",
    "            exc_ds.save()\n",
    "            #tech_copy.save()\n",
    "\n",
    "        for ef in tech_copy.biosphere():\n",
    "            # Apply CO2 capture efficiency and apply SO2, NOx, and PM removal\n",
    "            if ef['name'] == 'Carbon dioxide, fossil':\n",
    "                ef_co2 = ef['amount']\n",
    "                ef['amount'] = ef_co2 * (1 - param_pp['co2_capture_rate']['value'])\n",
    "            elif ef['name'] == 'Sulfur dioxide':\n",
    "                ef['amount'] = ef['amount'] * (1 - param_pp['so2_reduction']['value'])\n",
    "            elif ef['name'] == 'Nitrogen oxides':\n",
    "                ef['amount'] = ef['amount'] * (1 - param_pp['nox_reduction']['value'])\n",
    "            elif ef['name'] in ['Particulates, < 2.5 um', 'Particulates, > 10 um', 'Particulates, > 2.5 um, and < 10um']:\n",
    "                ef['amount'] = ef['amount'] * (1 - param_pp['pm_reduction']['value']) \n",
    "            ef.save()\n",
    "            #tech_copy.save()\n",
    "\n",
    "        # Add new technosphere exchanges for CO2 capture:\n",
    "        new_market_loc = locs_ei_image_map[tech_copy['location']]\n",
    "        for exc in [k for k in param_pp.keys() if param_pp[k]['type'] == 'ecoinvent']:\n",
    "            exc_ds = param_datasets[exc][new_market_loc]\n",
    "            tech_copy.new_exchange(input=exc_ds.key,amount = param_pp[exc]['value']*ef_co2*param_pp['co2_capture_rate']['value'], unit=exc_ds['unit'], type='technosphere').save()\n",
    "            #tech_copy.save()\n",
    "\n",
    "        # Add new biosphere exchanges for CO2 capture:\n",
    "        for ef in [k for k in param_pp.keys() if param_pp[k]['type'] == 'biosphere']:\n",
    "            ef_ds = [exc for exc in biosphere if exc.key == param_pp[ef]['dataset']][0]\n",
    "            tech_copy.new_exchange(input=ef_ds.key,amount= param_pp[ef]['value']*ef_co2*param_pp['co2_capture_rate']['value'], unit=ef_ds['unit'], type='biosphere').save()   \n",
    "            #tech_copy.save()\n",
    "\n",
    "        # Update technosphere dictionary with product outputs:\n",
    "        tech_copy.new_exchange(input=co2_markets[new_market_loc].key,amount= -ef_co2*param_pp['co2_capture_rate']['value'], unit='kilogram', type='technosphere').save()   \n",
    "        tech_copy.save()\n",
    "    i+=1\n",
    "    print(i)\n",
    "    \n",
    "    "
   ]
  },
  {
   "cell_type": "code",
   "execution_count": null,
   "id": "2bf5db3f-0b9b-46dc-ad33-5bf5eb23a763",
   "metadata": {},
   "outputs": [],
   "source": []
  },
  {
   "cell_type": "markdown",
   "id": "1b5fbc2b",
   "metadata": {},
   "source": [
    "### [3.2] Implement <span style=\"color:violet\">Methanol synthesis and distillation </span> </span>, CO2 from <span style=\"color:blue\">point sources</span>"
   ]
  },
  {
   "cell_type": "code",
   "execution_count": null,
   "id": "9e147d4d",
   "metadata": {},
   "outputs": [],
   "source": [
    "locs_no = ['World', 'RER']\n",
    "meoh_ds = [ds for ds in eidb if ds['name']=='methanol synthesis, hydrogen from electrolysis, CO2 from DAC' and ds['location'] not in locs_no]"
   ]
  },
  {
   "cell_type": "code",
   "execution_count": null,
   "id": "15ed6851",
   "metadata": {},
   "outputs": [],
   "source": [
    "meoh_markets = {}\n",
    "for meoh_act in meoh_ds:\n",
    "    meoh_copy = meoh_act.copy(name='methanol synthesis, hydrogen from electrolysis, CO2 from point-source', location=meoh_act['location'])\n",
    "    meoh_copy.save()\n",
    "    for exc in meoh_copy.exchanges():\n",
    "        if exc.input['name'] == 'carbon dioxide, captured from atmosphere, with a solvent-based direct air capture system, 1MtCO2, with heat pump heat, and grid electricity':\n",
    "            exc.input = co2_markets[meoh_copy['location']]\n",
    "            exc.save()\n",
    "            co2_copy.save()"
   ]
  },
  {
   "cell_type": "markdown",
   "id": "6654c236",
   "metadata": {},
   "source": [
    "### [4] Enter new methanol activites to methanol market"
   ]
  },
  {
   "cell_type": "code",
   "execution_count": null,
   "id": "45eb58cc",
   "metadata": {},
   "outputs": [],
   "source": [
    "choices = [ds for ds in eidb if 'methanol synthesis, hydrogen from electrolysis' in ds['name'] and ds['location'] not in ['World', 'RER', 'GLO']]"
   ]
  },
  {
   "cell_type": "code",
   "execution_count": null,
   "id": "f538e24a",
   "metadata": {},
   "outputs": [],
   "source": [
    "meoh_original_market = [ds for ds in eidb if 'market for methanol'==ds['name']][0]"
   ]
  },
  {
   "cell_type": "code",
   "execution_count": null,
   "id": "e7cc2bac",
   "metadata": {},
   "outputs": [],
   "source": [
    "meoh_original_market_copy = meoh_original_market.copy(name='new market for methanol')\n",
    "meoh_original_market_copy.save()\n",
    "for new_meoh_activity in choices:\n",
    "    meoh_original_market_copy.new_exchange(input=new_meoh_activity.key,amount = 0, unit='kilogram', type='technosphere').save()\n",
    "        "
   ]
  },
  {
   "cell_type": "code",
   "execution_count": null,
   "id": "2a0b08a8-a40d-4191-af20-8474fd6fac55",
   "metadata": {},
   "outputs": [],
   "source": []
  }
 ],
 "metadata": {
  "kernelspec": {
   "display_name": "Python 3 (ipykernel)",
   "language": "python",
   "name": "python3"
  },
  "language_info": {
   "codemirror_mode": {
    "name": "ipython",
    "version": 3
   },
   "file_extension": ".py",
   "mimetype": "text/x-python",
   "name": "python",
   "nbconvert_exporter": "python",
   "pygments_lexer": "ipython3",
   "version": "3.9.19"
  }
 },
 "nbformat": 4,
 "nbformat_minor": 5
}
