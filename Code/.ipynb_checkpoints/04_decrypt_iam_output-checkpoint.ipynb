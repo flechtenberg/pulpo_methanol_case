{
 "cells": [
  {
   "cell_type": "markdown",
   "id": "0874e34e",
   "metadata": {},
   "source": [
    "Import IAM results and visualize electricity markets \n",
    "\n",
    "Fabian Lechtenberg (18/09/22)"
   ]
  },
  {
   "cell_type": "markdown",
   "id": "471bd2cd",
   "metadata": {},
   "source": [
    "### Import Section"
   ]
  },
  {
   "cell_type": "code",
   "execution_count": null,
   "id": "12ff988f",
   "metadata": {},
   "outputs": [],
   "source": [
    "import pandas as pd\n",
    "import numpy as np\n",
    "import os\n",
    "from cryptography.fernet import Fernet\n",
    "from io import StringIO\n",
    "import csv"
   ]
  },
  {
   "cell_type": "code",
   "execution_count": null,
   "id": "c20c1aee",
   "metadata": {},
   "outputs": [],
   "source": [
    "# Substitute with your working directory of choice\n",
    "notebook_dir = os.path.dirname(os.getcwd())\n",
    "path = os.path.join(notebook_dir, 'data\\\\raw\\\\')"
   ]
  },
  {
   "cell_type": "code",
   "execution_count": null,
   "id": "fe24a0c5",
   "metadata": {},
   "outputs": [],
   "source": [
    "# string the key\n",
    "try:\n",
    "    with open(path+'premise-key.txt', \"r\") as file:\n",
    "        key = file.read()\n",
    "except FileNotFoundError:\n",
    "    print(f\"The file at '{path}' was not found.\")\n",
    "except Exception as e:\n",
    "    print(f\"An error occurred: {str(e)}\")\n",
    "    \n",
    "fernet = Fernet(key)"
   ]
  },
  {
   "cell_type": "code",
   "execution_count": null,
   "id": "27af6fda",
   "metadata": {},
   "outputs": [],
   "source": [
    "for file in os.listdir(path + 'encrypted\\\\'):\n",
    "    with open(path+ 'encrypted\\\\' + file, 'rb') as enc_file:\n",
    "        print(path+file)\n",
    "        encrypted = enc_file.read()\n",
    "        decrypted = fernet.decrypt(encrypted)\n",
    "        data = StringIO(str(decrypted, \"latin-1\"))\n",
    "        data_split = data.getvalue().split('\\r\\n')\n",
    "        with open (path + 'decrypted\\\\' + 'decrypted_' + file, 'w', newline='') as csv_file:\n",
    "            csv_writer = csv.writer(csv_file)\n",
    "            for row in data_split:\n",
    "                csv_writer.writerow(row.split(';')) ### PkBudg scenarios have \";\" while IMAGE scenarios \",\""
   ]
  },
  {
   "cell_type": "code",
   "execution_count": null,
   "id": "65e83cf3",
   "metadata": {},
   "outputs": [],
   "source": []
  }
 ],
 "metadata": {
  "kernelspec": {
   "display_name": "Python 3 (ipykernel)",
   "language": "python",
   "name": "python3"
  },
  "language_info": {
   "codemirror_mode": {
    "name": "ipython",
    "version": 3
   },
   "file_extension": ".py",
   "mimetype": "text/x-python",
   "name": "python",
   "nbconvert_exporter": "python",
   "pygments_lexer": "ipython3",
   "version": "3.9.18"
  }
 },
 "nbformat": 4,
 "nbformat_minor": 5
}
