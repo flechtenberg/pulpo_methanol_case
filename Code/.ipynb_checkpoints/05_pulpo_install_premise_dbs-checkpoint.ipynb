{
 "cells": [
  {
   "cell_type": "markdown",
   "id": "c2612bd6",
   "metadata": {},
   "source": [
    "Notebook created by Fabian Lechtenberg (*29/11/2023*)\n",
    "\n",
    "Goal: Install selected premise databases"
   ]
  },
  {
   "cell_type": "markdown",
   "id": "ab69dd7f",
   "metadata": {},
   "source": [
    "The current version of this notebook works with cutoff version of **ecoinvent 3.8**, **premise 1.8.1**, **bw2data 3.6.6**, and numpy 1.23.0"
   ]
  },
  {
   "cell_type": "markdown",
   "id": "f436fd80-9fbe-419c-b308-74b3ecefd9e8",
   "metadata": {},
   "source": [
    "It is recommended that a separate python environment for premise with the abovementioned versions is created in order to replicate the findings of the paper."
   ]
  },
  {
   "cell_type": "markdown",
   "id": "f0e3c6e4",
   "metadata": {},
   "source": [
    "### Import section"
   ]
  },
  {
   "cell_type": "code",
   "execution_count": null,
   "id": "86b0d587",
   "metadata": {},
   "outputs": [],
   "source": [
    "from premise import *\n",
    "import bw2data\n",
    "import numpy as np"
   ]
  },
  {
   "cell_type": "markdown",
   "id": "fbb8111c",
   "metadata": {},
   "source": [
    "### Which Databases to Install and Where?"
   ]
  },
  {
   "cell_type": "markdown",
   "id": "7ffc8031",
   "metadata": {},
   "source": [
    "In the following section specify the project that you want to work in as well as the name of the name of the ecoinvent 3.8 database.\n",
    "\n",
    "In this example we will work in the **\"pyTCM_Example\"** project and the ecoinvent 3.8 database called **\"cutoff38\"** (standard installation name)"
   ]
  },
  {
   "cell_type": "code",
   "execution_count": null,
   "id": "7fb16572",
   "metadata": {},
   "outputs": [],
   "source": [
    "project = 'pulpo_example'\n",
    "database = 'cutoff38'"
   ]
  },
  {
   "cell_type": "code",
   "execution_count": null,
   "id": "29cced3f",
   "metadata": {},
   "outputs": [],
   "source": [
    "bw2data.projects.set_current(project)"
   ]
  },
  {
   "cell_type": "markdown",
   "id": "c6f7b7ca",
   "metadata": {},
   "source": [
    "Next, select the scenario(s) that you would like to install. As of today, the available scenarios are all from the SSP2 pathway. From the **IMAGE** IAM the available scenarios are: *Base*, *RCP26* and *RCP19*. From the **REMIND** IAM the available scenarios are: *Base*, *NDC*, *NPI*, *PkBudg1150* and *PkBudg500*.\n",
    "\n",
    "https://premise.readthedocs.io/en/latest/extract.html#current-iam-scenarios"
   ]
  },
  {
   "cell_type": "markdown",
   "id": "f20e8183",
   "metadata": {},
   "source": [
    "In this example we will install the **REMIND** *PkBudg500* scenario in year 2040."
   ]
  },
  {
   "cell_type": "code",
   "execution_count": null,
   "id": "64142fc0",
   "metadata": {},
   "outputs": [],
   "source": [
    "iam = 'remind'\n",
    "scenario = 'PkBudg500'\n",
    "year = 2040"
   ]
  },
  {
   "cell_type": "code",
   "execution_count": null,
   "id": "fc0d9e62-a8d9-432d-a9b5-c37cb8354c71",
   "metadata": {},
   "outputs": [],
   "source": [
    "#scenario_list.append({\"model\":iam, \"pathway\":\"SSP2-\" + scenario, \"year\":year})"
   ]
  },
  {
   "cell_type": "code",
   "execution_count": null,
   "id": "f64817f8",
   "metadata": {},
   "outputs": [],
   "source": [
    "scenario_list = []\n",
    "scenario_list.append({\"model\":iam, \"pathway\":\"SSP2-\" + scenario, \"year\":year})"
   ]
  },
  {
   "cell_type": "code",
   "execution_count": null,
   "id": "3da4a2d1-55c8-4ae7-ad5c-e3de901d3cc0",
   "metadata": {},
   "outputs": [],
   "source": [
    "scenario_list"
   ]
  },
  {
   "cell_type": "markdown",
   "id": "6ad756f4",
   "metadata": {},
   "source": [
    "If desired, this list can be extended with other scenarios that are installed sequentially."
   ]
  },
  {
   "cell_type": "markdown",
   "id": "c26d8d6f",
   "metadata": {},
   "source": [
    "### Install premise Database"
   ]
  },
  {
   "cell_type": "markdown",
   "id": "dbf43e01",
   "metadata": {},
   "source": [
    "Create the new databases. Be aware that a decryption **key** is required that must be obtained from the developer of premise Romain Sacchi: romain.sacchi@psi.ch  "
   ]
  },
  {
   "cell_type": "code",
   "execution_count": null,
   "id": "443780c4",
   "metadata": {},
   "outputs": [],
   "source": [
    "d_key = '...'"
   ]
  },
  {
   "cell_type": "code",
   "execution_count": null,
   "id": "e81c579d",
   "metadata": {
    "scrolled": true
   },
   "outputs": [],
   "source": [
    "ndb = NewDatabase(\n",
    "            scenarios=scenario_list,\n",
    "            source_db=database, # <-- name of the database in the BW2 project. Must be a string.\n",
    "            source_version=\"3.8\", # <-- version of ecoinvent. Can be \"3.5\", \"3.6\", \"3.7\" or \"3.8\". Must be a string.\n",
    "            key=d_key # <-- decryption key\n",
    "            # to be requested from the library maintainers if you want ot use default scenarios included in `premise`\n",
    "    )"
   ]
  },
  {
   "cell_type": "markdown",
   "id": "897c69be",
   "metadata": {},
   "source": [
    "After extracting the IAM data, the ecoinvent activities need to be updated. This process may take a while!\n",
    "\n",
    "Future version of premise will accelerate this process significantly ..."
   ]
  },
  {
   "cell_type": "code",
   "execution_count": null,
   "id": "74f2d9a2",
   "metadata": {},
   "outputs": [],
   "source": [
    "ndb.update_all()"
   ]
  },
  {
   "cell_type": "markdown",
   "id": "596622bf",
   "metadata": {},
   "source": [
    "Finally, save the changed to brightway "
   ]
  },
  {
   "cell_type": "code",
   "execution_count": null,
   "id": "3a0bb796",
   "metadata": {},
   "outputs": [],
   "source": [
    "ndb.write_db_to_brightway()"
   ]
  },
  {
   "cell_type": "markdown",
   "id": "0ef5a26d",
   "metadata": {},
   "source": [
    "### Install fixed IPCC method"
   ]
  },
  {
   "cell_type": "markdown",
   "id": "d1b6b24b",
   "metadata": {},
   "source": [
    "Modified IPCC2013 method to include characterization factors for CO2 non-fossil and CO2 in air"
   ]
  },
  {
   "cell_type": "code",
   "execution_count": null,
   "id": "580b7842-b3b9-49e4-9516-2c3f00469319",
   "metadata": {},
   "outputs": [],
   "source": [
    "from premise_gwp import add_premise_gwp\n",
    "add_premise_gwp()  "
   ]
  },
  {
   "cell_type": "code",
   "execution_count": null,
   "id": "d56dbc8e-30a4-47dd-a9d1-cfe9b40bd81a",
   "metadata": {},
   "outputs": [],
   "source": []
  }
 ],
 "metadata": {
  "kernelspec": {
   "display_name": "Python 3 (ipykernel)",
   "language": "python",
   "name": "python3"
  },
  "language_info": {
   "codemirror_mode": {
    "name": "ipython",
    "version": 3
   },
   "file_extension": ".py",
   "mimetype": "text/x-python",
   "name": "python",
   "nbconvert_exporter": "python",
   "pygments_lexer": "ipython3",
   "version": "3.9.19"
  }
 },
 "nbformat": 4,
 "nbformat_minor": 5
}
