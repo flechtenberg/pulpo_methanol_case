{
 "cells": [
  {
   "cell_type": "markdown",
   "id": "2a6cf549",
   "metadata": {},
   "source": [
    "This notebook serves as template for the calculation of the results presented in the paper \"*PULPO🐙: A framework for efficient integration of life cycle inventory models into life cycle product optimization*\"."
   ]
  },
  {
   "cell_type": "markdown",
   "id": "0e6bc613",
   "metadata": {},
   "source": [
    "In this specific notebook, one optimization is performed based on the users specification of (scenario/year/electricity bound)"
   ]
  },
  {
   "cell_type": "markdown",
   "id": "3a47393d",
   "metadata": {},
   "source": [
    "### Import Section"
   ]
  },
  {
   "cell_type": "code",
   "id": "286a31aa",
   "metadata": {
    "execution": {
     "iopub.execute_input": "2024-04-16T14:45:56.459209Z",
     "iopub.status.busy": "2024-04-16T14:45:56.459209Z",
     "iopub.status.idle": "2024-04-16T14:45:58.006496Z",
     "shell.execute_reply": "2024-04-16T14:45:58.006496Z",
     "shell.execute_reply.started": "2024-04-16T14:45:56.459209Z"
    }
   },
   "source": [
    "import os\n",
    "import sys\n",
    "sys.path.append('../pulpo/')\n",
    "from pulpo import pulpo\n",
    "import pandas as pd\n",
    "pd.set_option('display.max_colwidth', None)"
   ],
   "outputs": [],
   "execution_count": null
  },
  {
   "cell_type": "markdown",
   "id": "d855cbea",
   "metadata": {},
   "source": [
    "### Setup"
   ]
  },
  {
   "cell_type": "code",
   "id": "7f098f5c",
   "metadata": {
    "execution": {
     "iopub.execute_input": "2024-04-16T14:45:58.007495Z",
     "iopub.status.busy": "2024-04-16T14:45:58.006496Z",
     "iopub.status.idle": "2024-04-16T14:45:58.021499Z",
     "shell.execute_reply": "2024-04-16T14:45:58.021499Z",
     "shell.execute_reply.started": "2024-04-16T14:45:58.007495Z"
    }
   },
   "source": [
    "# Specify the project and database names as well as the impact to minimize\n",
    "project = \"pulpo_example\"\n",
    "scenario = \"PkBudg500\"\n",
    "year = \"2040\"\n",
    "database = \"CCU_\" + scenario + \"_\" + year\n",
    "method = \"('IPCC 2013', 'climate change', 'GWP 100a, incl. H and bio CO2')\"\n",
    "\n",
    "# Substitute with your working directory of choice\n",
    "notebook_dir = os.getcwd()\n",
    "directory = os.path.join(notebook_dir, 'data')\n",
    "\n",
    "# Substitute with your GAMS path\n",
    "GAMS_PATH = \"C:/GAMS/37/gams.exe\""
   ],
   "outputs": [],
   "execution_count": null
  },
  {
   "cell_type": "markdown",
   "id": "d58e609b-8866-4411-9dbb-5e74757cce65",
   "metadata": {},
   "source": [
    "Create a PULPO worker"
   ]
  },
  {
   "cell_type": "code",
   "id": "a47d0da6",
   "metadata": {
    "execution": {
     "iopub.execute_input": "2024-04-16T14:45:58.022496Z",
     "iopub.status.busy": "2024-04-16T14:45:58.022496Z",
     "iopub.status.idle": "2024-04-16T14:45:58.038496Z",
     "shell.execute_reply": "2024-04-16T14:45:58.037500Z",
     "shell.execute_reply.started": "2024-04-16T14:45:58.022496Z"
    }
   },
   "source": [
    "pulpo_worker = pulpo.PulpoOptimizer(project, database, method, directory)"
   ],
   "outputs": [],
   "execution_count": null
  },
  {
   "cell_type": "markdown",
   "id": "47df8112",
   "metadata": {},
   "source": [
    "Retrieve the data (*from brightway2*). If data is already loaded, this step is automatically skipped. "
   ]
  },
  {
   "cell_type": "code",
   "id": "88927105",
   "metadata": {
    "execution": {
     "iopub.execute_input": "2024-04-16T14:45:58.039529Z",
     "iopub.status.busy": "2024-04-16T14:45:58.039529Z",
     "iopub.status.idle": "2024-04-16T14:45:59.451200Z",
     "shell.execute_reply": "2024-04-16T14:45:59.451200Z",
     "shell.execute_reply.started": "2024-04-16T14:45:58.039529Z"
    }
   },
   "source": [
    "pulpo_worker.get_lci_data()"
   ],
   "outputs": [],
   "execution_count": null
  },
  {
   "cell_type": "markdown",
   "id": "ce7fe909",
   "metadata": {},
   "source": [
    "### Specify FU"
   ]
  },
  {
   "cell_type": "code",
   "id": "e043c94f",
   "metadata": {
    "execution": {
     "iopub.execute_input": "2024-04-16T14:45:59.452282Z",
     "iopub.status.busy": "2024-04-16T14:45:59.452282Z",
     "iopub.status.idle": "2024-04-16T14:45:59.466360Z",
     "shell.execute_reply": "2024-04-16T14:45:59.466360Z",
     "shell.execute_reply.started": "2024-04-16T14:45:59.452282Z"
    }
   },
   "source": [
    "reference_products=[\"electricity, high voltage\"] # 💡\n",
    "activities = [\"market group for electricity, high voltage\"] # 📊\n",
    "locations = [\"CAZ\",\"USA\",\"NEU\",\"SSA\",\"EUR\",\"IND\",\"LAM\",\"OAS\",\"REF\",\"MEA\",\"CHA\",\"JPN\"] # 🌎"
   ],
   "outputs": [],
   "execution_count": null
  },
  {
   "cell_type": "code",
   "id": "cb5d2dbb",
   "metadata": {
    "execution": {
     "iopub.execute_input": "2024-04-16T14:45:59.467358Z",
     "iopub.status.busy": "2024-04-16T14:45:59.467358Z",
     "iopub.status.idle": "2024-04-16T14:46:00.524210Z",
     "shell.execute_reply": "2024-04-16T14:46:00.524210Z",
     "shell.execute_reply.started": "2024-04-16T14:45:59.467358Z"
    }
   },
   "source": [
    "elec_markets = pulpo_worker.retrieve_activities(reference_products=reference_products, activities=activities, locations=locations)"
   ],
   "outputs": [],
   "execution_count": null
  },
  {
   "cell_type": "code",
   "id": "7abefab2",
   "metadata": {
    "execution": {
     "iopub.execute_input": "2024-04-16T14:46:00.525207Z",
     "iopub.status.busy": "2024-04-16T14:46:00.525207Z",
     "iopub.status.idle": "2024-04-16T14:46:01.755290Z",
     "shell.execute_reply": "2024-04-16T14:46:01.754789Z",
     "shell.execute_reply.started": "2024-04-16T14:46:00.525207Z"
    }
   },
   "source": [
    "meoh_market = pulpo_worker.retrieve_activities(activities=[\"new market for methanol\"]) # 🧪📊"
   ],
   "outputs": [],
   "execution_count": null
  },
  {
   "cell_type": "markdown",
   "id": "e1ed5045",
   "metadata": {},
   "source": [
    "*IMPORTANT*: This step requires as an input decrypted IAM output files. The encrypted files are storred within the premise package. To decrypt them, the same key as for the premise installation is required. The notebook \"decrypt_iam_output.ipynb\" shows how to do that."
   ]
  },
  {
   "cell_type": "code",
   "id": "c9de4073",
   "metadata": {
    "execution": {
     "iopub.execute_input": "2024-04-16T14:46:01.756324Z",
     "iopub.status.busy": "2024-04-16T14:46:01.756324Z",
     "iopub.status.idle": "2024-04-16T14:46:01.802357Z",
     "shell.execute_reply": "2024-04-16T14:46:01.802357Z",
     "shell.execute_reply.started": "2024-04-16T14:46:01.756324Z"
    }
   },
   "source": [
    "notebook_dir = os.getcwd()\n",
    "input_path = os.path.join(notebook_dir, 'data\\\\raw\\\\decrypted\\\\')\n",
    "iam_output = pd.read_csv(input_path + 'decrypted_remind_SSP2-' + scenario + '.csv')\n",
    "filtered_df = iam_output[iam_output['Variable'] == 'SE|Electricity'].loc[:, ['Region', year]]"
   ],
   "outputs": [],
   "execution_count": null
  },
  {
   "cell_type": "code",
   "id": "038f96b8",
   "metadata": {
    "execution": {
     "iopub.execute_input": "2024-04-16T14:46:01.804354Z",
     "iopub.status.busy": "2024-04-16T14:46:01.803354Z",
     "iopub.status.idle": "2024-04-16T14:46:01.818357Z",
     "shell.execute_reply": "2024-04-16T14:46:01.818357Z",
     "shell.execute_reply.started": "2024-04-16T14:46:01.804354Z"
    }
   },
   "source": [
    "elec_supply = {filtered_df['Region'][ind]: filtered_df[year][ind]/3.6E-12 for ind in filtered_df.index if filtered_df['Region'][ind] != 'World'}"
   ],
   "outputs": [],
   "execution_count": null
  },
  {
   "cell_type": "code",
   "id": "fca0b11a-cec0-4535-8dd2-8cc39dca3b98",
   "metadata": {
    "execution": {
     "iopub.execute_input": "2024-04-16T14:46:01.820355Z",
     "iopub.status.busy": "2024-04-16T14:46:01.820355Z",
     "iopub.status.idle": "2024-04-16T14:46:01.834357Z",
     "shell.execute_reply": "2024-04-16T14:46:01.834357Z",
     "shell.execute_reply.started": "2024-04-16T14:46:01.820355Z"
    }
   },
   "source": [
    "elec_supply"
   ],
   "outputs": [],
   "execution_count": null
  },
  {
   "cell_type": "code",
   "id": "0cf99deb",
   "metadata": {
    "execution": {
     "iopub.execute_input": "2024-04-16T14:46:01.836354Z",
     "iopub.status.busy": "2024-04-16T14:46:01.835354Z",
     "iopub.status.idle": "2024-04-16T14:46:01.851354Z",
     "shell.execute_reply": "2024-04-16T14:46:01.850358Z",
     "shell.execute_reply.started": "2024-04-16T14:46:01.836354Z"
    }
   },
   "source": [
    "demand = {meoh_market[0]: 100e9}"
   ],
   "outputs": [],
   "execution_count": null
  },
  {
   "cell_type": "markdown",
   "id": "46cba1d0",
   "metadata": {},
   "source": [
    "### Choices"
   ]
  },
  {
   "cell_type": "markdown",
   "id": "5401636f",
   "metadata": {},
   "source": [
    "**Methanol 🧪 production**, retrieve all the synthesis processes, using DAC and PSC"
   ]
  },
  {
   "cell_type": "code",
   "id": "15f80fe4",
   "metadata": {
    "execution": {
     "iopub.execute_input": "2024-04-16T14:46:01.856385Z",
     "iopub.status.busy": "2024-04-16T14:46:01.855354Z",
     "iopub.status.idle": "2024-04-16T14:46:07.270366Z",
     "shell.execute_reply": "2024-04-16T14:46:07.270366Z",
     "shell.execute_reply.started": "2024-04-16T14:46:01.856385Z"
    }
   },
   "source": [
    "activities = [\"methanol synthesis, hydrogen from electrolysis, CO2 from DAC\", \"methanol synthesis, hydrogen from electrolysis, CO2 from point-source\"]\n",
    "locations = [\"CAZ\",\"USA\",\"NEU\",\"SSA\",\"EUR\",\"IND\",\"LAM\",\"OAS\",\"REF\",\"MEA\",\"CHA\",\"JPN\"]\n",
    "meoh_choices = pulpo_worker.retrieve_activities(activities=activities, locations=locations)\n",
    "meoh_choices.append(pulpo_worker.retrieve_activities(activities=[\"methanol production\"], locations=[\"GLO\"])[0])\n",
    "meoh_choices.append(pulpo_worker.retrieve_activities(reference_products=[\"methanol\"], activities=[\"synthetic fuel production, from coal, high temperature Fisher-Tropsch operations\"], locations=[\"ZA\"])[0])"
   ],
   "outputs": [],
   "execution_count": null
  },
  {
   "cell_type": "markdown",
   "id": "01bd7d5f",
   "metadata": {},
   "source": [
    "**Electricity 💡 retrofitting**, for selected fossil thermal powerplants"
   ]
  },
  {
   "cell_type": "code",
   "id": "bbc812de",
   "metadata": {
    "execution": {
     "iopub.execute_input": "2024-04-16T14:46:07.272399Z",
     "iopub.status.busy": "2024-04-16T14:46:07.271398Z",
     "iopub.status.idle": "2024-04-16T14:46:07.286401Z",
     "shell.execute_reply": "2024-04-16T14:46:07.286401Z",
     "shell.execute_reply.started": "2024-04-16T14:46:07.272399Z"
    }
   },
   "source": [
    "pp_name = ['electricity production, hard coal',\n",
    "           'electricity production, hard coal, conventional',\n",
    "           'electricity production, hard coal, supercritical',\n",
    "           'heat and power co-generation, hard coal',\n",
    "           'electricity production, lignite',\n",
    "           'heat and power co-generation, lignite',\n",
    "           'electricity production, natural gas, conventional power plant',\n",
    "           'electricity production, natural gas, combined cycle power plant',\n",
    "           'heat and power co-generation, natural gas, conventional power plant, 100MW electrical',\n",
    "           'heat and power co-generation, natural gas, combined cycle power plant, 400MW electrical']\n",
    "pp_name = [name + ', retrofitting with CC' for name in pp_name]"
   ],
   "outputs": [],
   "execution_count": null
  },
  {
   "cell_type": "code",
   "id": "811a0b2b",
   "metadata": {
    "execution": {
     "iopub.execute_input": "2024-04-16T14:46:07.288398Z",
     "iopub.status.busy": "2024-04-16T14:46:07.288398Z",
     "iopub.status.idle": "2024-04-16T14:46:09.025659Z",
     "shell.execute_reply": "2024-04-16T14:46:09.025659Z",
     "shell.execute_reply.started": "2024-04-16T14:46:07.288398Z"
    }
   },
   "source": [
    "# Retrieve all retrofitting activities and create a searchable list\n",
    "retrofit_activities = pulpo_worker.retrieve_activities(activities=pp_name)\n",
    "retrofit_activities_list = [[act['name'], act['location'], act['reference product']] for act in retrofit_activities]"
   ],
   "outputs": [],
   "execution_count": null
  },
  {
   "cell_type": "code",
   "id": "47df80cc",
   "metadata": {
    "execution": {
     "iopub.execute_input": "2024-04-16T14:46:09.027672Z",
     "iopub.status.busy": "2024-04-16T14:46:09.026658Z",
     "iopub.status.idle": "2024-04-16T14:46:10.911671Z",
     "shell.execute_reply": "2024-04-16T14:46:10.911671Z",
     "shell.execute_reply.started": "2024-04-16T14:46:09.026658Z"
    }
   },
   "source": [
    "# Retrieve all the activities that have the same names as the retrofitting ones, but without CC\n",
    "act_orig_names = [act['name'].replace(', retrofitting with CC','') for act in retrofit_activities]\n",
    "act_orig_raw = pulpo_worker.retrieve_activities(activities=act_orig_names)"
   ],
   "outputs": [],
   "execution_count": null
  },
  {
   "cell_type": "code",
   "id": "199dd765",
   "metadata": {
    "execution": {
     "iopub.execute_input": "2024-04-16T14:46:10.913780Z",
     "iopub.status.busy": "2024-04-16T14:46:10.912731Z",
     "iopub.status.idle": "2024-04-16T14:46:10.926811Z",
     "shell.execute_reply": "2024-04-16T14:46:10.926811Z",
     "shell.execute_reply.started": "2024-04-16T14:46:10.913780Z"
    }
   },
   "source": [
    "# Filter that list to only include the correct types of plant in the correct region\n",
    "original_activities = [act for act in act_orig_raw if [act['name']+', retrofitting with CC', act['location'], act['reference product']] in retrofit_activities_list]"
   ],
   "outputs": [],
   "execution_count": null
  },
  {
   "cell_type": "code",
   "id": "223c5b8b",
   "metadata": {
    "execution": {
     "iopub.execute_input": "2024-04-16T14:46:10.928806Z",
     "iopub.status.busy": "2024-04-16T14:46:10.927806Z",
     "iopub.status.idle": "2024-04-16T14:46:11.021833Z",
     "shell.execute_reply": "2024-04-16T14:46:11.021833Z",
     "shell.execute_reply.started": "2024-04-16T14:46:10.928806Z"
    }
   },
   "source": [
    "# Match the non-CC and the CC activities in one dictionary\n",
    "n= 0\n",
    "retrofit_choices = {}\n",
    "for act in retrofit_activities: \n",
    "    j = 0\n",
    "    while [act['name'], act['location'], act['reference product']] != [original_activities[j]['name']+', retrofitting with CC', original_activities[j]['location'], original_activities[j]['reference product']]:     \n",
    "            j+=1\n",
    "    retrofit_choices[str(n)] = [act, original_activities[j]]\n",
    "    n+=1"
   ],
   "outputs": [],
   "execution_count": null
  },
  {
   "cell_type": "code",
   "id": "a10ed5c9",
   "metadata": {
    "execution": {
     "iopub.execute_input": "2024-04-16T14:46:11.023829Z",
     "iopub.status.busy": "2024-04-16T14:46:11.022830Z",
     "iopub.status.idle": "2024-04-16T14:46:11.037833Z",
     "shell.execute_reply": "2024-04-16T14:46:11.037833Z",
     "shell.execute_reply.started": "2024-04-16T14:46:11.023829Z"
    }
   },
   "source": [
    "choices  = {n: {retrofit_choices[n][0]: 1e20,\n",
    "                retrofit_choices[n][1]: 1e20} for n in retrofit_choices}\n",
    "choices['methanol'] = {act: 1e20 for act in meoh_choices}"
   ],
   "outputs": [],
   "execution_count": null
  },
  {
   "cell_type": "markdown",
   "id": "77b0a48b",
   "metadata": {},
   "source": [
    "### Constraints"
   ]
  },
  {
   "cell_type": "code",
   "id": "0aaba3d6",
   "metadata": {
    "execution": {
     "iopub.execute_input": "2024-04-16T14:46:11.039830Z",
     "iopub.status.busy": "2024-04-16T14:46:11.038829Z",
     "iopub.status.idle": "2024-04-16T14:46:11.052964Z",
     "shell.execute_reply": "2024-04-16T14:46:11.052964Z",
     "shell.execute_reply.started": "2024-04-16T14:46:11.039830Z"
    }
   },
   "source": [
    "elec_bound = 0"
   ],
   "outputs": [],
   "execution_count": null
  },
  {
   "cell_type": "code",
   "id": "4931670c",
   "metadata": {
    "execution": {
     "iopub.execute_input": "2024-04-16T14:46:11.054958Z",
     "iopub.status.busy": "2024-04-16T14:46:11.053958Z",
     "iopub.status.idle": "2024-04-16T14:46:11.069960Z",
     "shell.execute_reply": "2024-04-16T14:46:11.068963Z",
     "shell.execute_reply.started": "2024-04-16T14:46:11.054958Z"
    }
   },
   "source": [
    "upper_bound = {elec_market: elec_supply[elec_market['location']]*(1+elec_bound) for elec_market in elec_markets}\n",
    "lower_bound = {elec_market: elec_supply[elec_market['location']] for elec_market in elec_markets}"
   ],
   "outputs": [],
   "execution_count": null
  },
  {
   "cell_type": "markdown",
   "id": "5627ec38",
   "metadata": {},
   "source": [
    "### Instantiate and Solve (BASE CASE)"
   ]
  },
  {
   "cell_type": "markdown",
   "id": "8e2d7874",
   "metadata": {},
   "source": [
    "Prior to solving the optimization problem involving the choices and the electricity capacity extension, the reference situation (BASE CASE) must be calculated. This case corresponds to the situation where **exactly** the forecasted electricity is supplied (via the PULPO functionality of fixing a supply), as well as the demand for methanol."
   ]
  },
  {
   "cell_type": "markdown",
   "id": "f2382ab8",
   "metadata": {},
   "source": [
    "##### only methanol 🧪:"
   ]
  },
  {
   "cell_type": "code",
   "id": "fff14472",
   "metadata": {
    "execution": {
     "iopub.execute_input": "2024-04-16T14:46:11.070958Z",
     "iopub.status.busy": "2024-04-16T14:46:11.070958Z",
     "iopub.status.idle": "2024-04-16T14:46:23.032277Z",
     "shell.execute_reply": "2024-04-16T14:46:23.032277Z",
     "shell.execute_reply.started": "2024-04-16T14:46:11.070958Z"
    }
   },
   "source": [
    "pulpo_worker.instantiate(choices={}, demand=demand, upper_limit=upper_bound)"
   ],
   "outputs": [],
   "execution_count": null
  },
  {
   "cell_type": "code",
   "id": "d2ec5b68",
   "metadata": {
    "execution": {
     "iopub.execute_input": "2024-04-16T14:46:23.034278Z",
     "iopub.status.busy": "2024-04-16T14:46:23.033277Z",
     "iopub.status.idle": "2024-04-16T14:46:39.625322Z",
     "shell.execute_reply": "2024-04-16T14:46:39.625322Z",
     "shell.execute_reply.started": "2024-04-16T14:46:23.034278Z"
    },
    "scrolled": true
   },
   "source": [
    "results = pulpo_worker.solve(GAMS_PATH=GAMS_PATH)"
   ],
   "outputs": [],
   "execution_count": null
  },
  {
   "cell_type": "code",
   "id": "3e4eee4f",
   "metadata": {
    "execution": {
     "iopub.execute_input": "2024-04-16T14:46:39.627322Z",
     "iopub.status.busy": "2024-04-16T14:46:39.626322Z",
     "iopub.status.idle": "2024-04-16T14:46:43.531437Z",
     "shell.execute_reply": "2024-04-16T14:46:43.531437Z",
     "shell.execute_reply.started": "2024-04-16T14:46:39.627322Z"
    }
   },
   "source": [
    "reference_meoh_GWP = pulpo_worker.instance.OBJ()\n",
    "pulpo_worker.save_results(choices={}, demand=demand, name='meoh_only_meoh.xlsx')"
   ],
   "outputs": [],
   "execution_count": null
  },
  {
   "cell_type": "markdown",
   "id": "d34a4077",
   "metadata": {},
   "source": [
    "##### methanol 🧪 and elec 💡:"
   ]
  },
  {
   "cell_type": "code",
   "id": "5c0bbf61",
   "metadata": {
    "execution": {
     "iopub.execute_input": "2024-04-16T14:46:43.533434Z",
     "iopub.status.busy": "2024-04-16T14:46:43.532434Z",
     "iopub.status.idle": "2024-04-16T14:46:55.739388Z",
     "shell.execute_reply": "2024-04-16T14:46:55.738389Z",
     "shell.execute_reply.started": "2024-04-16T14:46:43.532434Z"
    }
   },
   "source": [
    "pulpo_worker.instantiate(choices={}, demand=demand, lower_limit=lower_bound, upper_limit=upper_bound)"
   ],
   "outputs": [],
   "execution_count": null
  },
  {
   "cell_type": "code",
   "id": "f98c6a9d",
   "metadata": {
    "execution": {
     "iopub.execute_input": "2024-04-16T14:46:55.741388Z",
     "iopub.status.busy": "2024-04-16T14:46:55.740388Z",
     "iopub.status.idle": "2024-04-16T14:47:12.041316Z",
     "shell.execute_reply": "2024-04-16T14:47:12.041316Z",
     "shell.execute_reply.started": "2024-04-16T14:46:55.741388Z"
    },
    "scrolled": true
   },
   "source": [
    "results = pulpo_worker.solve(GAMS_PATH=GAMS_PATH)"
   ],
   "outputs": [],
   "execution_count": null
  },
  {
   "cell_type": "code",
   "id": "3bd24040",
   "metadata": {
    "execution": {
     "iopub.execute_input": "2024-04-16T14:47:12.043313Z",
     "iopub.status.busy": "2024-04-16T14:47:12.042312Z",
     "iopub.status.idle": "2024-04-16T14:47:15.963509Z",
     "shell.execute_reply": "2024-04-16T14:47:15.963509Z",
     "shell.execute_reply.started": "2024-04-16T14:47:12.043313Z"
    }
   },
   "source": [
    "pulpo_worker.save_results(choices={}, demand=demand, name='meoh_with_elec.xlsx')"
   ],
   "outputs": [],
   "execution_count": null
  },
  {
   "cell_type": "code",
   "id": "14d4be5d",
   "metadata": {
    "execution": {
     "iopub.execute_input": "2024-04-16T14:47:15.965506Z",
     "iopub.status.busy": "2024-04-16T14:47:15.964505Z",
     "iopub.status.idle": "2024-04-16T14:47:15.984505Z",
     "shell.execute_reply": "2024-04-16T14:47:15.983505Z",
     "shell.execute_reply.started": "2024-04-16T14:47:15.965506Z"
    }
   },
   "source": [
    "reference_GWP = pulpo_worker.instance.OBJ()"
   ],
   "outputs": [],
   "execution_count": null
  },
  {
   "cell_type": "code",
   "id": "341fe830",
   "metadata": {
    "execution": {
     "iopub.execute_input": "2024-04-16T14:49:33.943372Z",
     "iopub.status.busy": "2024-04-16T14:49:33.943053Z",
     "iopub.status.idle": "2024-04-16T14:49:33.962373Z",
     "shell.execute_reply": "2024-04-16T14:49:33.962373Z",
     "shell.execute_reply.started": "2024-04-16T14:49:33.943372Z"
    }
   },
   "source": [
    "try:\n",
    "    reference_elec = sum(pulpo_worker.instance.scaling_vector[pulpo_worker.lci_data['process_map'][x]].value for x in elec_markets)\n",
    "except: \n",
    "    reference_elec = sum(pulpo_worker.instance.scaling_vector[pulpo_worker.lci_data['process_map'][x]] for x in elec_markets)"
   ],
   "outputs": [],
   "execution_count": null
  },
  {
   "cell_type": "markdown",
   "id": "d48a9b13",
   "metadata": {},
   "source": [
    "This result serves as a reference for the subsequent optimization. Moreover, the slack variables for the electricity supply are used as the new final demand. "
   ]
  },
  {
   "cell_type": "markdown",
   "id": "8512584a",
   "metadata": {},
   "source": [
    "### Instantiate and Solve (WITH CHOICES 🕸️)"
   ]
  },
  {
   "cell_type": "markdown",
   "id": "8cc6e9b3",
   "metadata": {},
   "source": [
    "First, specify the percentual increase in electricity that is to be evaluated:"
   ]
  },
  {
   "cell_type": "code",
   "id": "a392c432",
   "metadata": {
    "execution": {
     "iopub.execute_input": "2024-04-16T14:49:34.885310Z",
     "iopub.status.busy": "2024-04-16T14:49:34.885310Z",
     "iopub.status.idle": "2024-04-16T14:49:34.897308Z",
     "shell.execute_reply": "2024-04-16T14:49:34.896309Z",
     "shell.execute_reply.started": "2024-04-16T14:49:34.885310Z"
    }
   },
   "source": [
    "elec_bound = 0.1"
   ],
   "outputs": [],
   "execution_count": null
  },
  {
   "cell_type": "markdown",
   "id": "30388a84",
   "metadata": {},
   "source": [
    "Specify the final demand of electricity calculated from the BASE CASE, as well as the methanol demand."
   ]
  },
  {
   "cell_type": "code",
   "id": "97227b59",
   "metadata": {
    "execution": {
     "iopub.execute_input": "2024-04-16T14:49:35.269131Z",
     "iopub.status.busy": "2024-04-16T14:49:35.269131Z",
     "iopub.status.idle": "2024-04-16T14:49:35.304238Z",
     "shell.execute_reply": "2024-04-16T14:49:35.304238Z",
     "shell.execute_reply.started": "2024-04-16T14:49:35.269131Z"
    }
   },
   "source": [
    "try:\n",
    "    final_electricity_demand = {x: pulpo_worker.instance.slack[x].value for x in pulpo_worker.instance.slack}\n",
    "except:\n",
    "    final_electricity_demand = {x: pulpo_worker.instance.slack[x] for x in pulpo_worker.instance.slack}\n",
    "demand = {x: final_electricity_demand[pulpo_worker.lci_data['process_map'][x]] for x in elec_markets}\n",
    "demand[meoh_market[0]] = 100000000000"
   ],
   "outputs": [],
   "execution_count": null
  },
  {
   "cell_type": "markdown",
   "id": "71ebf33a",
   "metadata": {},
   "source": [
    "Specifiy that the CO2 markets may not take on negative values as this would \"destroy\" CO2."
   ]
  },
  {
   "cell_type": "code",
   "id": "5d47fb53",
   "metadata": {
    "execution": {
     "iopub.execute_input": "2024-04-16T14:49:36.355595Z",
     "iopub.status.busy": "2024-04-16T14:49:36.354595Z",
     "iopub.status.idle": "2024-04-16T14:49:37.905562Z",
     "shell.execute_reply": "2024-04-16T14:49:37.905562Z",
     "shell.execute_reply.started": "2024-04-16T14:49:36.355595Z"
    }
   },
   "source": [
    "carbon_markets = pulpo_worker.retrieve_activities(activities=[\"carbon dioxide, captured from point-source\"])\n",
    "lower_bound_carbon = {carbon_market: 0 for carbon_market in carbon_markets}"
   ],
   "outputs": [],
   "execution_count": null
  },
  {
   "cell_type": "markdown",
   "id": "aa0afdb7",
   "metadata": {},
   "source": [
    "Specify the lower and upper bounds on the electricity supply"
   ]
  },
  {
   "cell_type": "code",
   "id": "32f5477b",
   "metadata": {
    "execution": {
     "iopub.execute_input": "2024-04-16T14:49:37.907587Z",
     "iopub.status.busy": "2024-04-16T14:49:37.906561Z",
     "iopub.status.idle": "2024-04-16T14:49:37.920591Z",
     "shell.execute_reply": "2024-04-16T14:49:37.920591Z",
     "shell.execute_reply.started": "2024-04-16T14:49:37.907587Z"
    }
   },
   "source": [
    "upper_bound = {elec_market: elec_supply[elec_market['location']]*(1+elec_bound) for elec_market in elec_markets}\n",
    "lower_bound = {elec_market: elec_supply[elec_market['location']] for elec_market in elec_markets}\n",
    "lower_bound.update(lower_bound_carbon)"
   ],
   "outputs": [],
   "execution_count": null
  },
  {
   "cell_type": "code",
   "id": "5dcf8cbe",
   "metadata": {
    "execution": {
     "iopub.execute_input": "2024-04-16T14:49:37.922587Z",
     "iopub.status.busy": "2024-04-16T14:49:37.921587Z",
     "iopub.status.idle": "2024-04-16T14:49:52.128462Z",
     "shell.execute_reply": "2024-04-16T14:49:52.128462Z",
     "shell.execute_reply.started": "2024-04-16T14:49:37.922587Z"
    }
   },
   "source": [
    "pulpo_worker.instantiate(choices=choices, demand=demand, lower_limit=lower_bound, upper_limit=upper_bound)"
   ],
   "outputs": [],
   "execution_count": null
  },
  {
   "cell_type": "code",
   "id": "8cd7f224",
   "metadata": {
    "execution": {
     "iopub.execute_input": "2024-04-16T14:49:52.131460Z",
     "iopub.status.busy": "2024-04-16T14:49:52.130460Z",
     "iopub.status.idle": "2024-04-16T14:50:09.728254Z",
     "shell.execute_reply": "2024-04-16T14:50:09.728254Z",
     "shell.execute_reply.started": "2024-04-16T14:49:52.131460Z"
    },
    "scrolled": true
   },
   "source": [
    "results = pulpo_worker.solve(GAMS_PATH=GAMS_PATH)"
   ],
   "outputs": [],
   "execution_count": null
  },
  {
   "cell_type": "code",
   "id": "e7fdf235",
   "metadata": {
    "execution": {
     "iopub.execute_input": "2024-04-16T14:50:09.729258Z",
     "iopub.status.busy": "2024-04-16T14:50:09.729258Z",
     "iopub.status.idle": "2024-04-16T14:50:13.077491Z",
     "shell.execute_reply": "2024-04-16T14:50:13.077491Z",
     "shell.execute_reply.started": "2024-04-16T14:50:09.729258Z"
    }
   },
   "source": "pulpo_worker.save_results(choices={}, demand=demand, name='meoh_results.xlsx')",
   "outputs": [],
   "execution_count": null
  },
  {
   "cell_type": "markdown",
   "id": "8e13455f",
   "metadata": {},
   "source": [
    "Calculate the GWP reduction of the optimized case with the base case:"
   ]
  },
  {
   "cell_type": "code",
   "id": "dddfcae6",
   "metadata": {
    "execution": {
     "iopub.execute_input": "2024-04-16T14:50:13.079491Z",
     "iopub.status.busy": "2024-04-16T14:50:13.079491Z",
     "iopub.status.idle": "2024-04-16T14:50:13.093521Z",
     "shell.execute_reply": "2024-04-16T14:50:13.093521Z",
     "shell.execute_reply.started": "2024-04-16T14:50:13.079491Z"
    }
   },
   "source": [
    "optimal_GWP = pulpo_worker.instance.OBJ()"
   ],
   "outputs": [],
   "execution_count": null
  },
  {
   "cell_type": "code",
   "id": "3832d552",
   "metadata": {
    "execution": {
     "iopub.execute_input": "2024-04-16T14:50:13.095520Z",
     "iopub.status.busy": "2024-04-16T14:50:13.094520Z",
     "iopub.status.idle": "2024-04-16T14:50:13.109521Z",
     "shell.execute_reply": "2024-04-16T14:50:13.109521Z",
     "shell.execute_reply.started": "2024-04-16T14:50:13.095520Z"
    }
   },
   "source": [
    "gwp_reduction = (reference_GWP-optimal_GWP)*0.000000001"
   ],
   "outputs": [],
   "execution_count": null
  },
  {
   "cell_type": "code",
   "id": "f52184a2",
   "metadata": {
    "execution": {
     "iopub.execute_input": "2024-04-16T14:50:13.111521Z",
     "iopub.status.busy": "2024-04-16T14:50:13.110521Z",
     "iopub.status.idle": "2024-04-16T14:50:13.126560Z",
     "shell.execute_reply": "2024-04-16T14:50:13.125560Z",
     "shell.execute_reply.started": "2024-04-16T14:50:13.111521Z"
    }
   },
   "source": [
    "print(str(round((optimal_GWP-reference_GWP)*0.000000001,2)) + ' MT')"
   ],
   "outputs": [],
   "execution_count": null
  },
  {
   "cell_type": "markdown",
   "id": "940fdf44",
   "metadata": {},
   "source": [
    "### Save the results 📊"
   ]
  },
  {
   "cell_type": "code",
   "id": "e994faa6",
   "metadata": {
    "execution": {
     "iopub.execute_input": "2024-04-16T14:50:32.331720Z",
     "iopub.status.busy": "2024-04-16T14:50:32.330720Z",
     "iopub.status.idle": "2024-04-16T14:50:32.344752Z",
     "shell.execute_reply": "2024-04-16T14:50:32.344752Z",
     "shell.execute_reply.started": "2024-04-16T14:50:32.331720Z"
    }
   },
   "source": [
    "try:\n",
    "    optimized_elec = sum(pulpo_worker.instance.scaling_vector[pulpo_worker.lci_data['process_map'][x]].value for x in elec_markets)\n",
    "except:\n",
    "    optimized_elec = sum(pulpo_worker.instance.scaling_vector[pulpo_worker.lci_data['process_map'][x]] for x in elec_markets)"
   ],
   "outputs": [],
   "execution_count": null
  },
  {
   "cell_type": "markdown",
   "id": "def0322f",
   "metadata": {},
   "source": [
    "Create dataframe with proper information:"
   ]
  },
  {
   "cell_type": "code",
   "id": "9909ac6e",
   "metadata": {
    "execution": {
     "iopub.execute_input": "2024-04-16T14:50:33.227327Z",
     "iopub.status.busy": "2024-04-16T14:50:33.227327Z",
     "iopub.status.idle": "2024-04-16T14:50:33.246327Z",
     "shell.execute_reply": "2024-04-16T14:50:33.246327Z",
     "shell.execute_reply.started": "2024-04-16T14:50:33.227327Z"
    }
   },
   "source": [
    "meoh_production = {}\n",
    "location_mapping = {\n",
    "    'GLO': ('methanol production', 'BAU'),\n",
    "    'ZA': ('Fischer Tropsch', '-'),\n",
    "}\n",
    "\n",
    "i = 0\n",
    "for choice in choices['methanol']:\n",
    "    region = choice['location']\n",
    "    \n",
    "    if region == 'GLO':\n",
    "        region, tech = location_mapping[region]\n",
    "        elec = (optimized_elec - reference_elec) / 1e9\n",
    "        net_zero = reference_meoh_GWP / 1e9\n",
    "        gwp = gwp_reduction\n",
    "    elif 'DAC' in choice['name']:\n",
    "        tech = 'DAC'\n",
    "        elec, net_zero, gwp = 0, 0, 0\n",
    "    elif 'point-source' in choice['name']:\n",
    "        tech = 'PSC' \n",
    "        elec, net_zero, gwp = 0, 0, 0\n",
    "    if region != 'ZA':\n",
    "        try:\n",
    "            value = pulpo_worker.instance.scaling_vector[pulpo_worker.lci_data['process_map'][choice]].value * 0.000000001\n",
    "        except:\n",
    "            value = pulpo_worker.instance.scaling_vector[pulpo_worker.lci_data['process_map'][choice]] * 0.000000001\n",
    "        meoh_production[i] = {\n",
    "            'scenario': scenario,\n",
    "            'year': int(year),\n",
    "            'epsilon [%]': str(round(elec_bound*100,3)),\n",
    "            'region': region,\n",
    "            'tech': tech,\n",
    "            'meoh [Mt]': value,\n",
    "            'elec [TWh]': elec,\n",
    "            'net-zero GWP [Mt]': net_zero,\n",
    "            'GWP reduction [Mt]': gwp\n",
    "        }\n",
    "        i += 1"
   ],
   "outputs": [],
   "execution_count": null
  },
  {
   "cell_type": "markdown",
   "id": "4944879c",
   "metadata": {},
   "source": [
    "Function for appending the dataframe to the already calculated results:"
   ]
  },
  {
   "cell_type": "code",
   "id": "02ec8ce3",
   "metadata": {
    "execution": {
     "iopub.execute_input": "2024-04-16T14:50:33.807155Z",
     "iopub.status.busy": "2024-04-16T14:50:33.807155Z",
     "iopub.status.idle": "2024-04-16T14:50:33.815154Z",
     "shell.execute_reply": "2024-04-16T14:50:33.815154Z",
     "shell.execute_reply.started": "2024-04-16T14:50:33.807155Z"
    }
   },
   "source": [
    "def save_to_excel(dataframe, file_path):\n",
    "    if not os.path.isfile(file_path):\n",
    "        # If the Excel file doesn't exist, create a new one\n",
    "        dataframe.to_excel(file_path, index=False)\n",
    "    else:\n",
    "        # If the Excel file already exists, check if the data is already present\n",
    "        existing_data = pd.read_excel(file_path)\n",
    "        existing_combinations = set(zip(existing_data[\"scenario\"], existing_data[\"year\"], existing_data[\"epsilon [%]\"]))\n",
    "        new_combinations = set(zip(dataframe[\"scenario\"], dataframe[\"year\"], dataframe[\"epsilon [%]\"]))\n",
    "        \n",
    "        if not any(combination in existing_combinations for combination in new_combinations):\n",
    "            # Append the new data to the existing Excel file\n",
    "            with pd.ExcelWriter(file_path, engine='openpyxl', mode='a', if_sheet_exists='replace') as writer:\n",
    "                pd.concat([existing_data, dataframe], ignore_index=True).to_excel(writer, index=False, sheet_name='Sheet1')"
   ],
   "outputs": [],
   "execution_count": null
  },
  {
   "cell_type": "markdown",
   "id": "928f6734",
   "metadata": {},
   "source": [
    "Save results:"
   ]
  },
  {
   "cell_type": "code",
   "id": "c0a8ec8c",
   "metadata": {
    "execution": {
     "iopub.execute_input": "2024-04-16T14:50:34.409046Z",
     "iopub.status.busy": "2024-04-16T14:50:34.409046Z",
     "iopub.status.idle": "2024-04-16T14:50:34.426046Z",
     "shell.execute_reply": "2024-04-16T14:50:34.426046Z",
     "shell.execute_reply.started": "2024-04-16T14:50:34.409046Z"
    }
   },
   "source": [
    "data = pd.DataFrame(meoh_production).transpose()"
   ],
   "outputs": [],
   "execution_count": null
  },
  {
   "cell_type": "code",
   "id": "b9f6878b",
   "metadata": {
    "execution": {
     "iopub.execute_input": "2024-04-16T14:50:34.881129Z",
     "iopub.status.busy": "2024-04-16T14:50:34.881129Z",
     "iopub.status.idle": "2024-04-16T14:50:34.918156Z",
     "shell.execute_reply": "2024-04-16T14:50:34.918156Z",
     "shell.execute_reply.started": "2024-04-16T14:50:34.881129Z"
    }
   },
   "source": [
    "# File path where you want to save the results\n",
    "file_path = directory + \"\\\\results\\\\results_meoh_case.xlsx\"\n",
    "# Call the function to save the DataFrame\n",
    "save_to_excel(data, file_path)"
   ],
   "outputs": [],
   "execution_count": null
  },
  {
   "cell_type": "markdown",
   "id": "64d589c3",
   "metadata": {},
   "source": [
    "### Loop"
   ]
  },
  {
   "cell_type": "markdown",
   "id": "bd5f120d-3c35-4a1e-8df3-0fe748d81aa1",
   "metadata": {},
   "source": [
    "For calculating the values for Figure 3"
   ]
  },
  {
   "cell_type": "code",
   "id": "0c03e69f",
   "metadata": {
    "execution": {
     "iopub.execute_input": "2024-04-16T14:50:36.035950Z",
     "iopub.status.busy": "2024-04-16T14:50:36.035950Z",
     "iopub.status.idle": "2024-04-16T14:50:36.053950Z",
     "shell.execute_reply": "2024-04-16T14:50:36.053950Z",
     "shell.execute_reply.started": "2024-04-16T14:50:36.035950Z"
    }
   },
   "source": [
    "import numpy as np"
   ],
   "outputs": [],
   "execution_count": null
  },
  {
   "cell_type": "code",
   "id": "748df174-390b-4e4d-9efe-73d0cf04442e",
   "metadata": {
    "execution": {
     "iopub.execute_input": "2024-04-16T14:50:36.375316Z",
     "iopub.status.busy": "2024-04-16T14:50:36.375316Z",
     "iopub.status.idle": "2024-04-16T15:18:50.855445Z",
     "shell.execute_reply": "2024-04-16T15:18:50.855445Z",
     "shell.execute_reply.started": "2024-04-16T14:50:36.375316Z"
    },
    "scrolled": true
   },
   "source": [
    "for bound in np.linspace(0.0005,0.025,50):\n",
    "    bound = round(bound,4)\n",
    "    print(bound)\n",
    "    upper_bound = {elec_market: elec_supply[elec_market['location']]*(1+bound) for elec_market in elec_markets}\n",
    "    pulpo_worker.instantiate(choices=choices, demand=demand, lower_limit=lower_bound, upper_limit=upper_bound)\n",
    "    results = pulpo_worker.solve(GAMS_PATH=GAMS_PATH)\n",
    "    optimal_GWP = pulpo_worker.instance.OBJ()\n",
    "    gwp_reduction = (reference_GWP-optimal_GWP)/1e9\n",
    "    try:\n",
    "        optimized_elec = sum(pulpo_worker.instance.scaling_vector[pulpo_worker.lci_data['process_map'][x]].value for x in elec_markets)\n",
    "    except:\n",
    "        optimized_elec = sum(pulpo_worker.instance.scaling_vector[pulpo_worker.lci_data['process_map'][x]] for x in elec_markets)\n",
    "    meoh_production = {}\n",
    "    location_mapping = {\n",
    "        'GLO': ('methanol production', 'BAU'),\n",
    "        'ZA': ('Fischer Tropsch', '-'),\n",
    "    }\n",
    "\n",
    "    i = 0\n",
    "    for choice in choices['methanol']:\n",
    "        region = choice['location']\n",
    "\n",
    "        if region == 'GLO':\n",
    "            region, tech = location_mapping[region]\n",
    "            elec = (optimized_elec - reference_elec) / 1e9\n",
    "            net_zero = reference_meoh_GWP / 1e9\n",
    "            gwp = gwp_reduction\n",
    "        elif 'DAC' in choice['name']:\n",
    "            tech = 'DAC'\n",
    "            elec, net_zero, gwp = 0, 0, 0\n",
    "        elif 'point-source' in choice['name']:\n",
    "            tech = 'PSC' \n",
    "            elec, net_zero, gwp = 0, 0, 0\n",
    "        if region != 'ZA':\n",
    "            try:\n",
    "                value = pulpo_worker.instance.scaling_vector[pulpo_worker.lci_data['process_map'][choice]].value * 0.000000001\n",
    "            except:\n",
    "                value = pulpo_worker.instance.scaling_vector[pulpo_worker.lci_data['process_map'][choice]] * 0.000000001\n",
    "            meoh_production[i] = {\n",
    "                'scenario': scenario,\n",
    "                'year': int(year),\n",
    "                'epsilon [%]': str(round(bound*100,3)),\n",
    "                'region': region,\n",
    "                'tech': tech,\n",
    "                'meoh [Mt]': value,\n",
    "                'elec [TWh]': elec,\n",
    "                'net-zero GWP [Mt]': net_zero,\n",
    "                'GWP reduction [Mt]': gwp\n",
    "            }\n",
    "            i += 1\n",
    "    data = pd.DataFrame(meoh_production).transpose()\n",
    "    save_to_excel(data, file_path)"
   ],
   "outputs": [],
   "execution_count": null
  },
  {
   "cell_type": "code",
   "id": "e8be1a2e-d5a1-40d0-8f17-d942b9790264",
   "metadata": {},
   "source": [],
   "outputs": [],
   "execution_count": null
  }
 ],
 "metadata": {
  "kernelspec": {
   "display_name": "Python 3 (ipykernel)",
   "language": "python",
   "name": "python3"
  },
  "language_info": {
   "codemirror_mode": {
    "name": "ipython",
    "version": 3
   },
   "file_extension": ".py",
   "mimetype": "text/x-python",
   "name": "python",
   "nbconvert_exporter": "python",
   "pygments_lexer": "ipython3",
   "version": "3.9.19"
  }
 },
 "nbformat": 4,
 "nbformat_minor": 5
}
