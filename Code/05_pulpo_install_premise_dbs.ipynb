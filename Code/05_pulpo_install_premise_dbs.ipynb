{
 "cells": [
  {
   "cell_type": "markdown",
   "id": "c2612bd6",
   "metadata": {},
   "source": [
    "Notebook created by Fabian Lechtenberg (*01/02/2023*)\n",
    "\n",
    "Goal: Install selected premise databases"
   ]
  },
  {
   "cell_type": "markdown",
   "id": "ab69dd7f",
   "metadata": {},
   "source": [
    "The current version of this notebook works with cutoff version of **ecoinvent 3.8**, **premise 1.3.9** and **brightway2  2.4.2**"
   ]
  },
  {
   "cell_type": "markdown",
   "id": "f0e3c6e4",
   "metadata": {},
   "source": [
    "### Import section"
   ]
  },
  {
   "cell_type": "code",
   "execution_count": null,
   "id": "86b0d587",
   "metadata": {},
   "outputs": [],
   "source": [
    "from premise import *\n",
    "import brightway2 as bw\n",
    "import numpy as np"
   ]
  },
  {
   "cell_type": "markdown",
   "id": "fbb8111c",
   "metadata": {},
   "source": [
    "### Which Databases to Install and Where?"
   ]
  },
  {
   "cell_type": "markdown",
   "id": "7ffc8031",
   "metadata": {},
   "source": [
    "In the following section specify the project that you want to work in as well as the name of the name of the ecoinvent 3.8 database.\n",
    "\n",
    "In this example we will work in the **\"pyTCM_Example\"** project and the ecoinvent 3.8 database called **\"cutoff38\"** (standard installation name)"
   ]
  },
  {
   "cell_type": "code",
   "execution_count": null,
   "id": "7fb16572",
   "metadata": {},
   "outputs": [],
   "source": [
    "project = 'pyTCM_Example'\n",
    "database = 'cutoff38'"
   ]
  },
  {
   "cell_type": "code",
   "execution_count": null,
   "id": "29cced3f",
   "metadata": {},
   "outputs": [],
   "source": [
    "bw.projects.set_current(project)"
   ]
  },
  {
   "cell_type": "markdown",
   "id": "c6f7b7ca",
   "metadata": {},
   "source": [
    "Next, select the scenario(s) that you would like to install. As of today, the available scenarios are all from the SSP2 pathway. From the **IMAGE** IAM the available scenarios are: *Base*, *RCP26* and *RCP19*. From the **REMIND** IAM the available scenarios are: *Base*, *NDC*, *NPI*, *PkBudg1150* and *PkBudg500*.\n",
    "\n",
    "https://premise.readthedocs.io/en/latest/extract.html#current-iam-scenarios"
   ]
  },
  {
   "cell_type": "markdown",
   "id": "f20e8183",
   "metadata": {},
   "source": [
    "In this example we will install the **REMIND** *PkBudg500* scenario in year 2040."
   ]
  },
  {
   "cell_type": "code",
   "execution_count": null,
   "id": "64142fc0",
   "metadata": {},
   "outputs": [],
   "source": [
    "iam = 'remind'\n",
    "scenario = 'PkBudg500'\n",
    "year = 2041"
   ]
  },
  {
   "cell_type": "code",
   "execution_count": null,
   "id": "f64817f8",
   "metadata": {},
   "outputs": [],
   "source": [
    "scenario_list = []\n",
    "scenario_list.append({\"model\":iam, \"pathway\":\"SSP2-\" + scenario, \"year\":year})"
   ]
  },
  {
   "cell_type": "markdown",
   "id": "6ad756f4",
   "metadata": {},
   "source": [
    "If desired, this list can be extended with other scenarios that are installed sequentially."
   ]
  },
  {
   "cell_type": "markdown",
   "id": "c26d8d6f",
   "metadata": {},
   "source": [
    "### Install premise Database"
   ]
  },
  {
   "cell_type": "markdown",
   "id": "dbf43e01",
   "metadata": {},
   "source": [
    "Create the new databases. Be aware that a decryption **key** is required that must be obtained from the developer of premise Romain Sacchi: romain.sacchi@psi.ch  "
   ]
  },
  {
   "cell_type": "code",
   "execution_count": null,
   "id": "443780c4",
   "metadata": {},
   "outputs": [],
   "source": [
    "notebook_dir = os.path.dirname(os.getcwd())\n",
    "path = os.path.join(notebook_dir, 'data\\\\raw\\\\')\n",
    "# string the key\n",
    "try:\n",
    "    with open(path+'premise-key.txt', \"r\") as file:\n",
    "        key = file.read()\n",
    "except FileNotFoundError:\n",
    "    print(f\"The file at '{path}' was not found.\")\n",
    "except Exception as e:\n",
    "    print(f\"An error occurred: {str(e)}\")"
   ]
  },
  {
   "cell_type": "code",
   "execution_count": null,
   "id": "e81c579d",
   "metadata": {},
   "outputs": [],
   "source": [
    "ndb = NewDatabase(\n",
    "            scenarios=scenario_list,\n",
    "            source_db=database, # <-- name of the database in the BW2 project. Must be a string.\n",
    "            source_version=\"3.8\", # <-- version of ecoinvent. Can be \"3.5\", \"3.6\", \"3.7\" or \"3.8\". Must be a string.\n",
    "            key=key # <-- decryption key\n",
    "            # to be requested from the library maintainers if you want ot use default scenarios included in `premise`\n",
    "    )"
   ]
  },
  {
   "cell_type": "markdown",
   "id": "897c69be",
   "metadata": {},
   "source": [
    "After extracting the IAM data, the ecoinvent activities need to be updated. This process may take a while!\n",
    "\n",
    "Future version of premise will accelerate this process significantly ..."
   ]
  },
  {
   "cell_type": "code",
   "execution_count": null,
   "id": "74f2d9a2",
   "metadata": {},
   "outputs": [],
   "source": [
    "ndb.update_all()"
   ]
  },
  {
   "cell_type": "markdown",
   "id": "596622bf",
   "metadata": {},
   "source": [
    "Finally, save the changed to brightway "
   ]
  },
  {
   "cell_type": "code",
   "execution_count": null,
   "id": "3a0bb796",
   "metadata": {},
   "outputs": [],
   "source": [
    "ndb.write_db_to_brightway()"
   ]
  },
  {
   "cell_type": "markdown",
   "id": "0ef5a26d",
   "metadata": {},
   "source": [
    "### Install fixed IPCC method"
   ]
  },
  {
   "cell_type": "markdown",
   "id": "d1b6b24b",
   "metadata": {},
   "source": [
    "Modified IPCC2013 method to include characterization factors for CO2 non-fossil and CO2 in air"
   ]
  },
  {
   "cell_type": "code",
   "execution_count": null,
   "id": "66f50d81",
   "metadata": {},
   "outputs": [],
   "source": [
    "from premise_gwp import add_premise_gwp\n",
    "add_premise_gwp()  "
   ]
  }
 ],
 "metadata": {
  "kernelspec": {
   "display_name": "Python 3 (ipykernel)",
   "language": "python",
   "name": "python3"
  },
  "language_info": {
   "codemirror_mode": {
    "name": "ipython",
    "version": 3
   },
   "file_extension": ".py",
   "mimetype": "text/x-python",
   "name": "python",
   "nbconvert_exporter": "python",
   "pygments_lexer": "ipython3",
   "version": "3.9.18"
  }
 },
 "nbformat": 4,
 "nbformat_minor": 5
}
