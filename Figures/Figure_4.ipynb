{
 "cells": [
  {
   "cell_type": "markdown",
   "id": "a6e0b03c",
   "metadata": {},
   "source": [
    "This notebook creates Figure 4 for a 3 selected scenarios. Requirement: the specified scenarios must have been calculated and stored in the \"results_meoh_case.xlsx\""
   ]
  },
  {
   "cell_type": "code",
   "execution_count": null,
   "id": "5bac1e1c",
   "metadata": {},
   "outputs": [],
   "source": [
    "scenarios = ['Base', 'NDC', 'PkBudg500']\n",
    "year = 2040"
   ]
  },
  {
   "cell_type": "markdown",
   "id": "5c8f92de",
   "metadata": {},
   "source": [
    "### Import Section"
   ]
  },
  {
   "cell_type": "code",
   "execution_count": null,
   "id": "1684ab48",
   "metadata": {},
   "outputs": [],
   "source": [
    "import pandas as pd\n",
    "import matplotlib.pyplot as plt\n",
    "import numpy as np\n",
    "import copy\n",
    "import matplotlib.patches as patches\n",
    "from mpl_toolkits.axes_grid1.inset_locator import inset_axes\n",
    "\n",
    "import matplotlib \n",
    "plt.rcParams[\"figure.figsize\"] = [10, 4.00]\n",
    "plt.rcParams[\"figure.autolayout\"] = True"
   ]
  },
  {
   "cell_type": "markdown",
   "id": "472dfd83",
   "metadata": {},
   "source": [
    "### Define colors"
   ]
  },
  {
   "cell_type": "code",
   "execution_count": null,
   "id": "e5c32453",
   "metadata": {},
   "outputs": [],
   "source": [
    "cmap = np.concatenate([['#D2D2D3'], ['#4492f4'],['#f84540']])"
   ]
  },
  {
   "cell_type": "markdown",
   "id": "ef3a34b2",
   "metadata": {},
   "source": [
    "### Prepare Data"
   ]
  },
  {
   "cell_type": "code",
   "execution_count": null,
   "id": "b6b86735",
   "metadata": {},
   "outputs": [],
   "source": [
    "df = pd.read_excel('Input/results_meoh_case.xlsx')"
   ]
  },
  {
   "cell_type": "code",
   "execution_count": null,
   "id": "f855fe6a",
   "metadata": {},
   "outputs": [],
   "source": [
    "def interpolate_eps(scenario, year):\n",
    "    # reduce file to the selected scenario / year\n",
    "    filtered_df = df[(df['scenario'] == scenario) & (df['year'] == int(year))]\n",
    "    # find all the \"BAU\" rows, there the GWP reduction data is storred\n",
    "    filtered_df2 = filtered_df[filtered_df['net-zero GWP [Mt]'] != 0]\n",
    "    # read the gwp reduction target\n",
    "    net_zero_gwp = max(filtered_df2['net-zero GWP [Mt]'])\n",
    "    # filter the data to those there the reduction potential is smaller or bigger than the target\n",
    "    filtered_df3 = filtered_df2[filtered_df2['GWP reduction [Mt]'] < net_zero_gwp]\n",
    "    filtered_df4 = filtered_df2[filtered_df2['GWP reduction [Mt]'] > net_zero_gwp]\n",
    "    # read the closest values to the target\n",
    "    lower = max(filtered_df3['GWP reduction [Mt]'])\n",
    "    upper = min(filtered_df4['GWP reduction [Mt]'])\n",
    "    # get the associated epsilon values\n",
    "    lower_eps = max(filtered_df3['epsilon [%]'])\n",
    "    upper_eps = min(filtered_df4['epsilon [%]'])\n",
    "    # find the epsilon which linearily interpolates between the two closest solutions and the target\n",
    "    eps = (net_zero_gwp - lower)/(upper - lower)*(upper_eps-lower_eps) + lower_eps\n",
    "    # Use this epsilon to interpolate all the production data results\n",
    "    df1 = filtered_df[filtered_df['epsilon [%]'] == lower_eps]\n",
    "    df2 = filtered_df[filtered_df['epsilon [%]'] == upper_eps]\n",
    "    # Create a new DataFrame for interpolated data\n",
    "    interpolated_rows = []\n",
    "\n",
    "    # Iterate through each row and interpolate the values based on epsilon\n",
    "    for index, row1 in df1.iterrows():\n",
    "        df2red = df2[(df2['region'] == row1['region']) & (df2['tech'] == row1['tech'])]\n",
    "        for index2, row2 in df2red.iterrows():\n",
    "            if row1['epsilon [%]'] == eps:\n",
    "                # No interpolation needed, just append the row from df1\n",
    "                interpolated_rows.append(row1)\n",
    "            else:\n",
    "                # Linear interpolation\n",
    "                alpha = (eps - lower_eps) / (upper_eps - lower_eps)\n",
    "                interpolated_values = {}\n",
    "                for column in df1.columns:\n",
    "                    if column not in ['scenario', 'year', 'epsilon [%]', 'region', 'tech']:\n",
    "                        interpolated_values[column] = alpha * row2[column] + (1 - alpha) * row1[column]\n",
    "                    elif column == 'epsilon [%]':\n",
    "                        interpolated_values[column] = eps\n",
    "                    else:\n",
    "                        interpolated_values[column] = row1[column]\n",
    "                interpolated_rows.append(interpolated_values)\n",
    "\n",
    "    # Create the interpolated DataFrame using pandas.concat\n",
    "    interpolated_df = pd.concat([pd.DataFrame([row]) for row in interpolated_rows], ignore_index=True)\n",
    "    return interpolated_df"
   ]
  },
  {
   "cell_type": "markdown",
   "id": "360b8c49",
   "metadata": {},
   "source": [
    "Interpolate between the three selected scenarios"
   ]
  },
  {
   "cell_type": "code",
   "execution_count": null,
   "id": "9972f13e",
   "metadata": {},
   "outputs": [],
   "source": [
    "dfs = {scenario: interpolate_eps(scenario, year) for scenario in scenarios}"
   ]
  },
  {
   "cell_type": "code",
   "execution_count": null,
   "id": "eb2ede0d",
   "metadata": {},
   "outputs": [],
   "source": [
    "summed_dfs = []\n",
    "for scen in dfs:\n",
    "    new_df = dfs[scen][['tech', 'meoh [Mt]']]\n",
    "    summed_dfs.append(new_df.groupby('tech')['meoh [Mt]'].sum().reset_index().set_index('tech').rename(columns={'meoh [Mt]': scen}))"
   ]
  },
  {
   "cell_type": "code",
   "execution_count": null,
   "id": "c52e4aec",
   "metadata": {},
   "outputs": [],
   "source": [
    "df_concat = pd.concat(summed_dfs, ignore_index=False, axis=1).transpose()\n",
    "df_concat = df_concat[['BAU', 'PSC', 'DAC']]"
   ]
  },
  {
   "cell_type": "code",
   "execution_count": null,
   "id": "4b3ca91c",
   "metadata": {},
   "outputs": [],
   "source": [
    "elec_scatter = [max(dfs[scen]['elec [TWh]']) for scen in dfs]"
   ]
  },
  {
   "cell_type": "markdown",
   "id": "2e9964bc",
   "metadata": {},
   "source": [
    "### Plotting function 🎨"
   ]
  },
  {
   "cell_type": "code",
   "execution_count": null,
   "id": "18936d1c",
   "metadata": {},
   "outputs": [],
   "source": [
    "font = {'size': 16}\n",
    "\n",
    "matplotlib.rc('font', **font)\n",
    "\n",
    "fig, ax = plt.subplots()\n",
    "df_concat.plot.bar(stacked=True,legend=False, edgecolor='black', color=cmap, ax=ax)\n",
    "plt.axhline(y=0,linewidth=0.5, color='black')\n",
    "\n",
    "# Additional Electricity\n",
    "ax2 = ax.twinx() \n",
    "ax2.bar((0.31,1.31,2.31), elec_scatter, edgecolor='black', facecolor='orange',width = 0.1)\n",
    "\n",
    "ax.set_ylabel(\"CCU methanol production [Mt]\")\n",
    "\n",
    "ax.set_ylim([0,155])\n",
    "ax.set_xlim([-0.5,2.5])\n",
    "ax.set_xticklabels(['Base  (3.5ºC)', 'NDC (2ºC)', 'PkBudg500 (1.5ºC)'], rotation = 0)\n",
    "ax.set_yticks([0,20,40,60,80,100],[0,20,40,60,80,100])\n",
    "\n",
    "ax2.set_ylim([0,600])\n",
    "ax2.set_xlim([-0.5,2.5])\n",
    "ax2.set_ylabel('Δ Electricity [TWh]')\n",
    "ax2.spines['right'].set_color('darkorange')\n",
    "ax2.tick_params(axis='y', colors='darkorange')\n",
    "\n",
    "DAC_patch = patches.Patch(edgecolor='black', facecolor='#f84540', label='Direct air capture')\n",
    "PS_patch = patches.Patch(edgecolor='black', facecolor='#4492f4', label='Point-source capture')\n",
    "BAU_patch = patches.Patch(edgecolor='black', facecolor='#D2D2D3', label='BAU')\n",
    "legend1 = plt.legend(handles=[DAC_patch, PS_patch, BAU_patch], ncol=2, bbox_to_anchor=(0.38, 0.7))\n",
    "\n",
    "fig.tight_layout()\n",
    "\n",
    "plt.savefig('Output/Figure 4 ' + str(year), dpi=300)"
   ]
  },
  {
   "cell_type": "code",
   "execution_count": null,
   "id": "59db6bc3",
   "metadata": {},
   "outputs": [],
   "source": [
    "elec_scatter"
   ]
  },
  {
   "cell_type": "code",
   "execution_count": null,
   "id": "65f9182a",
   "metadata": {},
   "outputs": [],
   "source": [
    "df_concat.to_excel('temp.xlsx')"
   ]
  },
  {
   "cell_type": "code",
   "execution_count": null,
   "id": "ff687920-60f5-4065-b55d-c33f27971781",
   "metadata": {},
   "outputs": [],
   "source": []
  }
 ],
 "metadata": {
  "kernelspec": {
   "display_name": "Python 3 (ipykernel)",
   "language": "python",
   "name": "python3"
  },
  "language_info": {
   "codemirror_mode": {
    "name": "ipython",
    "version": 3
   },
   "file_extension": ".py",
   "mimetype": "text/x-python",
   "name": "python",
   "nbconvert_exporter": "python",
   "pygments_lexer": "ipython3",
   "version": "3.9.18"
  }
 },
 "nbformat": 4,
 "nbformat_minor": 5
}
