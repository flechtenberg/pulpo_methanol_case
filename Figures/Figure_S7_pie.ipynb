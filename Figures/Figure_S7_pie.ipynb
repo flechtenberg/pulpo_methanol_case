{
 "cells": [
  {
   "cell_type": "code",
   "execution_count": null,
   "id": "d25f962b",
   "metadata": {},
   "outputs": [],
   "source": [
    "import pandas as pd\n",
    "import xlsxwriter \n",
    "import matplotlib.pyplot as plt\n",
    "import matplotlib\n",
    "from matplotlib import gridspec\n",
    "import copy\n",
    "\n",
    "file_path = 'Input/premise_scenario_report.xlsx'  # Replace with the path to your Excel file\n",
    "sheet_name = 'Electricity - generation'\n",
    "scenario = 'REMIND - SSP2-BASE'\n",
    "year = 2040"
   ]
  },
  {
   "cell_type": "markdown",
   "id": "0fbd0aea",
   "metadata": {},
   "source": [
    "### Extract Data"
   ]
  },
  {
   "cell_type": "markdown",
   "id": "8951c62a",
   "metadata": {},
   "source": [
    "In premise 1.6.7 these are the electricity generation technologies:"
   ]
  },
  {
   "cell_type": "code",
   "execution_count": null,
   "id": "2350be94",
   "metadata": {},
   "outputs": [],
   "source": [
    "techs_image = [\"Biomass CHP\", \"Biomass CHP CCS\", \"Biomass ST\", \"Biomass IGCC CCS\", \"Biomass IGCC\", \"Coal PC\", \"Coal IGCC\", \"Coal IGCC CCS\", \"Coal CHP\", \"Coal CHP CCS\", \"Gas OC\", \"Gas CC\", \"Gas CHP\", \"Gas CHP CCS\", \"Gas CC CCS\", \"Geothermal\", \"Hydro\", \"Nuclear\", \"Oil ST\", \"Oil CC\", \"Oil CC CCS\", \"Oil CHP\", \"Oil CHP CCS\", \"Solar CSP\", \"Solar PV Centralized\", \"Solar PV Residential\", \"Wind Onshore\", \"Wind Offshore\"]\n",
    "techs_remind = [\"Biomass CHP\", \"Biomass IGCC CCS\", \"Biomass IGCC\", \"Coal PC\", \"Coal IGCC\", \"Coal PC CCS\", \"Coal IGCC CCS\", \"Coal CHP\", \"Gas OC\", \"Gas CC\", \"Gas CHP\", \"Gas CC CCS\", \"Geothermal\", \"Hydro\", \"Nuclear\", \"Oil ST\", \"Solar CSP\", \"Solar PV Centralized\", \"Wind Onshore\", \"Wind Offshore\"]"
   ]
  },
  {
   "cell_type": "markdown",
   "id": "d5eb5a1c",
   "metadata": {},
   "source": [
    "These are the years:"
   ]
  },
  {
   "cell_type": "code",
   "execution_count": null,
   "id": "bc5f4f9c",
   "metadata": {},
   "outputs": [],
   "source": [
    "years = [2005,2010,2015,2020,2025,2030,2035,2040,2045,2050, 2055, 2060,2070,2080,2090,2100]"
   ]
  },
  {
   "cell_type": "markdown",
   "id": "16fb25d0",
   "metadata": {},
   "source": [
    "These are the regions:"
   ]
  },
  {
   "cell_type": "code",
   "execution_count": null,
   "id": "fcab57da",
   "metadata": {},
   "outputs": [],
   "source": [
    "regions_remind = ['CAZ', 'CHA', 'EUR', 'IND', 'JPN', 'LAM', 'MEA', 'NEU', 'OAS', 'REF', 'SSA', 'USA']\n",
    "regions_image = ['BRA','CAN','CEU','CHN','EAF','INDIA','INDO','JAP','KOR','ME','MEX','NAF','OCE','RCAM','RSAF','RSAM','RSAS','RUS','SAF','SEAS','STAN','TUR','UKR','USA','WAF','WEU','World']"
   ]
  },
  {
   "cell_type": "markdown",
   "id": "402a27e9",
   "metadata": {},
   "source": [
    "These are the scenarios:"
   ]
  },
  {
   "cell_type": "code",
   "execution_count": null,
   "id": "796a2e26",
   "metadata": {},
   "outputs": [],
   "source": [
    "scenarios = [\n",
    "    \"IMAGE - SSP1-BASE\",\n",
    "    \"IMAGE - SSP2-BASE\",\n",
    "    \"IMAGE - SSP2-RCP26\",\n",
    "    \"IMAGE - SSP2-RCP19\",\n",
    "    \"REMIND - SSP1-BASE\",\n",
    "    \"REMIND - SSP1-NDC\",\n",
    "    \"REMIND - SSP1-NPI\",\n",
    "    \"REMIND - SSP1-PKBUDG1150\",\n",
    "    \"REMIND - SSP1-PKBUDG500\",\n",
    "    \"REMIND - SSP2-BASE\",\n",
    "    \"REMIND - SSP2-NDC\",\n",
    "    \"REMIND - SSP2-NPI\",\n",
    "    \"REMIND - SSP2-PKBUDG1150\",\n",
    "    \"REMIND - SSP2-PKBUDG500\",\n",
    "    \"REMIND - SSP5-BASE\",\n",
    "    \"REMIND - SSP5-NDC\",\n",
    "    \"REMIND - SSP5-NPI\",\n",
    "    \"REMIND - SSP5-PKBUDG1150\",\n",
    "    \"REMIND - SSP5-PKBUDG500\"\n",
    "]\n"
   ]
  },
  {
   "cell_type": "code",
   "execution_count": null,
   "id": "5098ac18",
   "metadata": {},
   "outputs": [],
   "source": [
    "def load_table(scenario, region):\n",
    "    if scenario.startswith('REMIND'):\n",
    "        years_scen = [x for x in years if x != 2055]\n",
    "        techs = techs_remind\n",
    "        regions = regions_remind\n",
    "    elif scenario.startswith('IMAGE'):\n",
    "        techs = techs_image\n",
    "        regions = regions_image\n",
    "    else:\n",
    "        print('No such scenario exists.')\n",
    "        return\n",
    "    row_pos = regions.index(region)\n",
    "    if scenario.startswith('REMIND'):\n",
    "        start_row = 6 + row_pos * (len(years) + 6)\n",
    "        end_row = start_row + len(years)\n",
    "    elif scenario.startswith('IMAGE'):\n",
    "        start_row = 6 + row_pos * (len(years) + 5)\n",
    "        end_row = start_row + len(years) -1\n",
    "    \n",
    "    col_pos = scenarios.index(scenario)\n",
    "    start_column = 1 + col_pos * (len(techs) + 4)\n",
    "    if scenario.startswith('REMIND'):\n",
    "        start_column = 1 + 4 * (len(techs_image) + 4) + (col_pos - 4) * (len(techs) + 4)\n",
    "    end_column = start_column + len(techs)\n",
    "    columns_to_load = xlsxwriter.utility.xl_col_to_name(start_column)+':'+xlsxwriter.utility.xl_col_to_name(end_column)\n",
    "    \n",
    "    df = pd.read_excel(file_path, sheet_name=sheet_name, engine='openpyxl', skiprows=range(1, start_row + 1), nrows=end_row - start_row + 1, usecols=columns_to_load)\n",
    "    df.columns = df.iloc[0]\n",
    "    df = df[1:]\n",
    "    df = df.set_index([df.columns[0]])\n",
    "    \n",
    "    return df"
   ]
  },
  {
   "cell_type": "code",
   "execution_count": null,
   "id": "c46aa928",
   "metadata": {},
   "outputs": [],
   "source": [
    "data = {}\n",
    "for region in regions_remind: \n",
    "    data[region] = load_table(scenario, region)"
   ]
  },
  {
   "cell_type": "code",
   "execution_count": null,
   "id": "15bae65d",
   "metadata": {},
   "outputs": [],
   "source": [
    "# Assuming you have a list of dataframes called list_of_dataframes\n",
    "result_df = data['CAZ'].copy()\n",
    "result_df[:] = 0\n",
    "for reg in data:\n",
    "    result_df += data[reg]\n",
    "df = result_df"
   ]
  },
  {
   "cell_type": "markdown",
   "id": "f652c452",
   "metadata": {},
   "source": [
    "### Prepare data for pie chart"
   ]
  },
  {
   "cell_type": "code",
   "execution_count": null,
   "id": "4c78b6ec",
   "metadata": {},
   "outputs": [],
   "source": [
    "# Combine and rename columns\n",
    "df = df.assign(\n",
    "    Biomass=df['Biomass CHP'] + df['Biomass IGCC'],\n",
    "    Solar=df['Solar CSP'] + df['Solar PV Centralized'],\n",
    "    Wind=df['Wind Onshore'] + df['Wind Offshore'],\n",
    "    Coal_CCS=df['Coal PC CCS'] + df['Coal IGCC CCS'],\n",
    "    Coal=df['Coal PC'] + df['Coal IGCC'] + df['Coal CHP'],\n",
    "    Gas=df['Gas OC'] + df['Gas CC'] + df['Gas CHP']\n",
    ")"
   ]
  },
  {
   "cell_type": "code",
   "execution_count": null,
   "id": "6494f361",
   "metadata": {},
   "outputs": [],
   "source": [
    "# Rename specific columns\n",
    "column_rename_dict = {\n",
    "    'Biomass IGCC CCS': 'Biomass CCS',\n",
    "    'Gas CC CCS': 'Gas CCS',\n",
    "    'Oil ST': 'Oil',\n",
    "    'Coal_CCS': 'Coal CCS'}\n",
    "\n",
    "df = df.rename(columns=column_rename_dict)"
   ]
  },
  {
   "cell_type": "code",
   "execution_count": null,
   "id": "8697af86",
   "metadata": {},
   "outputs": [],
   "source": [
    "# Drop the original columns that were combined\n",
    "df = df.drop(columns=['Biomass CHP', 'Biomass IGCC', 'Wind Onshore', 'Wind Offshore',\n",
    "                      'Solar CSP', 'Solar PV Centralized',\n",
    "                      'Coal PC CCS', 'Coal IGCC CCS',\n",
    "                      'Coal PC', 'Coal IGCC', 'Coal CHP',\n",
    "                      'Gas OC', 'Gas CC', 'Gas CHP'])"
   ]
  },
  {
   "cell_type": "code",
   "execution_count": null,
   "id": "6db6a775",
   "metadata": {},
   "outputs": [],
   "source": [
    "# Desired order\n",
    "reorder = [\"Biomass CCS\", \"Biomass\", \"Solar\", \"Wind\", \"Geothermal\", \"Hydro\", \"Nuclear\", \"Coal CCS\", \"Gas CCS\", \"Coal\", \"Gas\", \"Oil\"]\n",
    "df = df[reorder]"
   ]
  },
  {
   "cell_type": "code",
   "execution_count": null,
   "id": "05dc674a-be83-467e-b8a8-3e3e63bc3486",
   "metadata": {},
   "outputs": [],
   "source": [
    "file_path = 'Input/meoh_results_full_abatement_Base.xlsx'  # Replace with the path to your Excel file\n",
    "sheet_name = 'choices'"
   ]
  },
  {
   "cell_type": "code",
   "execution_count": null,
   "id": "8c93bf12-f7e7-48bf-9c29-96be64cc55c9",
   "metadata": {},
   "outputs": [],
   "source": [
    "df_cc = pd.read_excel(file_path, sheet_name=sheet_name, engine='openpyxl')\n",
    "# Drop rows that don't contain retrofitt information\n",
    "df_cc = df_cc.iloc[2:4]\n",
    "# Drop columns with capacity limit\n",
    "df_cc = df_cc.drop(df_cc.columns[df_cc.eq(100000000000000000000).all()], axis=1)\n",
    "# Drop the first column\n",
    "df_cc = df_cc.iloc[:, 1:]\n",
    "# Rename the rows\n",
    "df_cc.index = ['CC', 'no CC']\n",
    "# Rename columns\n",
    "df_cc.columns = range(len(df_cc.columns))"
   ]
  },
  {
   "cell_type": "code",
   "execution_count": null,
   "id": "ad19e9f7-d72f-44b3-b86f-f1bd7e369ce7",
   "metadata": {},
   "outputs": [],
   "source": [
    "coal, coal_cc, gas, gas_cc = (0, 0, 0, 0)\n",
    "for i in range(len(df_cc.columns)):\n",
    "    if i%2 == 0:\n",
    "        if 'coal' in df_cc[i]['CC'] or 'lignite' in df_cc[i]['CC']:\n",
    "            coal_cc += df_cc[i+1]['CC']\n",
    "            coal += df_cc[i+1]['no CC']\n",
    "        elif 'gas' in df_cc[i]['CC']:\n",
    "            gas_cc += df_cc[i+1]['CC']\n",
    "            gas += df_cc[i+1]['no CC']\n",
    "retrofitt = {'coal cc': coal_cc*3.6*1e-12,\n",
    "             'coal': coal*3.6*1e-12,\n",
    "             'gas cc': gas_cc*3.6*1e-12,\n",
    "             'gas': gas*3.6*1e-12}\n",
    "coal_share = retrofitt['coal cc'] / (retrofitt['coal cc'] + retrofitt['coal'])\n",
    "gas_share = retrofitt['gas cc'] / (retrofitt['gas cc'] + retrofitt['gas'])"
   ]
  },
  {
   "cell_type": "code",
   "execution_count": null,
   "id": "f93ee2ef-4698-4f4b-b750-0276328f2a0a",
   "metadata": {},
   "outputs": [],
   "source": [
    "# Select the row you want to plot as a pie chart\n",
    "row_to_plot = df.loc[year] \n",
    "row_to_plot_copy = copy.deepcopy(row_to_plot)"
   ]
  },
  {
   "cell_type": "code",
   "execution_count": null,
   "id": "208f8a07-c1ef-418e-a47a-e9b6e507673d",
   "metadata": {},
   "outputs": [],
   "source": [
    "del row_to_plot_copy['Gas']\n",
    "del row_to_plot_copy['Oil']\n",
    "row_to_plot_copy['Coal'] = row_to_plot['Coal'] * (1-gas_share)\n",
    "row_to_plot_copy['Coal CCU'] =  row_to_plot['Coal'] * gas_share\n",
    "row_to_plot_copy['Gas'] = row_to_plot['Gas'] * (1-gas_share) \n",
    "row_to_plot_copy['Gas CCU'] =  row_to_plot['Gas'] * gas_share\n",
    "row_to_plot_copy['Oil'] = row_to_plot['Oil']"
   ]
  },
  {
   "cell_type": "markdown",
   "id": "83669c71",
   "metadata": {},
   "source": [
    "### Plotting 🎨"
   ]
  },
  {
   "cell_type": "code",
   "execution_count": null,
   "id": "cee8436b",
   "metadata": {},
   "outputs": [],
   "source": [
    "import matplotlib.pyplot as plt\n",
    "\n",
    "# Select the row you want to plot as a pie chart\n",
    "row_to_plot = df.loc[year]  # You can replace 2005.0 with the index of the row you want to plot\n",
    "\n",
    "# Define a custom color palette\n",
    "colors = {\n",
    "    'Biomass CCS': '#6ed503',\n",
    "    'Biomass': '#9fd4e4',\n",
    "    'Solar': '#5db6e4',\n",
    "    'Wind': '#0077ba',\n",
    "    'Geothermal': '#0056a3',\n",
    "    'Hydro': '#00337a',\n",
    "    'Nuclear': '#011262',\n",
    "    'Coal CCS': 'purple',\n",
    "    'Gas CCS': 'indigo',\n",
    "    'Coal': '#777777',\n",
    "    'Coal CCU': 'red',\n",
    "    'Gas': '#555555',\n",
    "    'Gas CCU': 'darkred',\n",
    "    'Oil': '#333333'\n",
    "}\n",
    "\n",
    "# Create a pie chart with custom colors and black outlines\n",
    "plt.figure(figsize=(8, 8))\n",
    "patches, texts, autotexts = plt.pie(row_to_plot_copy, labels=None, autopct='',wedgeprops = {'linewidth': 3} , startangle=0, colors=[colors[label] for label in row_to_plot_copy.index])\n",
    "\n",
    "# Set black outline for each pie slice\n",
    "for patch in patches:\n",
    "    patch.set_edgecolor('black')\n",
    "\n",
    "plt.title('')  # Hide the title of the pie chart\n",
    "plt.axis('equal')  # Equal aspect ratio ensures that pie is drawn as a circle.\n",
    "\n",
    "# Create a legend with 4 columns and 3 rows, centered at the top\n",
    "#legend = plt.legend(labels=row_to_plot_copy.index, loc='upper center', bbox_to_anchor=(0.5, 1.1), ncol=5)\n",
    "\n",
    "# Save the figure with a DPI of 600\n",
    "plt.savefig('Output/Figure 4 pie - '+ scenario + '_' + str(year) +'.png', dpi=600)\n",
    "\n",
    "# Show the pie chart\n",
    "plt.show()"
   ]
  },
  {
   "cell_type": "code",
   "execution_count": null,
   "id": "eca9d4e7-1a56-4a81-b0c2-b6ee16573c57",
   "metadata": {},
   "outputs": [],
   "source": [
    "pd.DataFrame(row_to_plot_copy).to_excel('Output/Figure 4 pie - '+ scenario + '_' + str(year) +'.xlsx')"
   ]
  },
  {
   "cell_type": "code",
   "execution_count": null,
   "id": "3a1ec88c-e99f-495c-8b4c-f9c998dba08e",
   "metadata": {},
   "outputs": [],
   "source": []
  }
 ],
 "metadata": {
  "kernelspec": {
   "display_name": "Python 3 (ipykernel)",
   "language": "python",
   "name": "python3"
  },
  "language_info": {
   "codemirror_mode": {
    "name": "ipython",
    "version": 3
   },
   "file_extension": ".py",
   "mimetype": "text/x-python",
   "name": "python",
   "nbconvert_exporter": "python",
   "pygments_lexer": "ipython3",
   "version": "3.9.18"
  }
 },
 "nbformat": 4,
 "nbformat_minor": 5
}
