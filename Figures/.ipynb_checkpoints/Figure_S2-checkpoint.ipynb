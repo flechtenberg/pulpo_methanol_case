{
 "cells": [
  {
   "cell_type": "code",
   "execution_count": null,
   "id": "460c02a3-08fb-4df4-a19e-34fe33a6a6e9",
   "metadata": {},
   "outputs": [],
   "source": [
    "import pandas as pd\n",
    "import xlsxwriter \n",
    "import matplotlib.pyplot as plt\n",
    "import matplotlib\n",
    "from matplotlib import gridspec\n",
    "\n",
    "file_path = 'Input/premise_scenario_report.xlsx'  # Replace with the path to your Excel file\n",
    "sheet_name = 'Electricity - generation'\n",
    "scenario = 'REMIND - SSP2-PKBUDG500'\n",
    "year = 2040"
   ]
  },
  {
   "cell_type": "code",
   "execution_count": null,
   "id": "77490abd-31f0-4fea-9692-6a475505b866",
   "metadata": {},
   "outputs": [],
   "source": [
    "techs_image = [\"Biomass CHP\", \"Biomass CHP CCS\", \"Biomass ST\", \"Biomass IGCC CCS\", \"Biomass IGCC\", \"Coal PC\", \"Coal IGCC\", \"Coal IGCC CCS\", \"Coal CHP\", \"Coal CHP CCS\", \"Gas OC\", \"Gas CC\", \"Gas CHP\", \"Gas CHP CCS\", \"Gas CC CCS\", \"Geothermal\", \"Hydro\", \"Nuclear\", \"Oil ST\", \"Oil CC\", \"Oil CC CCS\", \"Oil CHP\", \"Oil CHP CCS\", \"Solar CSP\", \"Solar PV Centralized\", \"Solar PV Residential\", \"Wind Onshore\", \"Wind Offshore\"]\n",
    "techs_remind = [\"Biomass CHP\", \"Biomass IGCC CCS\", \"Biomass IGCC\", \"Coal PC\", \"Coal IGCC\", \"Coal PC CCS\", \"Coal IGCC CCS\", \"Coal CHP\", \"Gas OC\", \"Gas CC\", \"Gas CHP\", \"Gas CC CCS\", \"Geothermal\", \"Hydro\", \"Nuclear\", \"Oil ST\", \"Solar CSP\", \"Solar PV Centralized\", \"Wind Onshore\", \"Wind Offshore\"]"
   ]
  },
  {
   "cell_type": "code",
   "execution_count": null,
   "id": "0af418f4-ce28-4baa-abe6-6b64d8cf69d5",
   "metadata": {},
   "outputs": [],
   "source": [
    "years = [2005,2010,2015,2020,2025,2030,2035,2040,2045,2050, 2055, 2060,2070,2080,2090,2100]"
   ]
  },
  {
   "cell_type": "code",
   "execution_count": null,
   "id": "d1aa1e04-a2e5-4455-9fda-690ffe34e76f",
   "metadata": {},
   "outputs": [],
   "source": [
    "regions_remind = ['CAZ', 'CHA', 'EUR', 'IND', 'JPN', 'LAM', 'MEA', 'NEU', 'OAS', 'REF', 'SSA', 'USA']\n",
    "regions_image = ['BRA','CAN','CEU','CHN','EAF','INDIA','INDO','JAP','KOR','ME','MEX','NAF','OCE','RCAM','RSAF','RSAM','RSAS','RUS','SAF','SEAS','STAN','TUR','UKR','USA','WAF','WEU','World']"
   ]
  },
  {
   "cell_type": "code",
   "execution_count": null,
   "id": "4fe7ea69-e58b-416e-8654-0c3a82bf4ffd",
   "metadata": {},
   "outputs": [],
   "source": [
    "scenarios = [\n",
    "    \"IMAGE - SSP1-BASE\",\n",
    "    \"IMAGE - SSP2-BASE\",\n",
    "    \"IMAGE - SSP2-RCP26\",\n",
    "    \"IMAGE - SSP2-RCP19\",\n",
    "    \"REMIND - SSP1-BASE\",\n",
    "    \"REMIND - SSP1-NDC\",\n",
    "    \"REMIND - SSP1-NPI\",\n",
    "    \"REMIND - SSP1-PKBUDG1150\",\n",
    "    \"REMIND - SSP1-PKBUDG500\",\n",
    "    \"REMIND - SSP2-BASE\",\n",
    "    \"REMIND - SSP2-NDC\",\n",
    "    \"REMIND - SSP2-NPI\",\n",
    "    \"REMIND - SSP2-PKBUDG1150\",\n",
    "    \"REMIND - SSP2-PKBUDG500\",\n",
    "    \"REMIND - SSP5-BASE\",\n",
    "    \"REMIND - SSP5-NDC\",\n",
    "    \"REMIND - SSP5-NPI\",\n",
    "    \"REMIND - SSP5-PKBUDG1150\",\n",
    "    \"REMIND - SSP5-PKBUDG500\"\n",
    "]\n"
   ]
  },
  {
   "cell_type": "code",
   "execution_count": null,
   "id": "e58e4b4d-4d2e-44a2-b4ba-b314318ffd7f",
   "metadata": {},
   "outputs": [],
   "source": [
    "def load_table(scenario, region):\n",
    "    if scenario.startswith('REMIND'):\n",
    "        years_scen = [x for x in years if x != 2055]\n",
    "        techs = techs_remind\n",
    "        regions = regions_remind\n",
    "    elif scenario.startswith('IMAGE'):\n",
    "        techs = techs_image\n",
    "        regions = regions_image\n",
    "    else:\n",
    "        print('No such scenario exists.')\n",
    "        return\n",
    "    row_pos = regions.index(region)\n",
    "    if scenario.startswith('REMIND'):\n",
    "        start_row = 6 + row_pos * (len(years) + 6)\n",
    "        end_row = start_row + len(years)\n",
    "    elif scenario.startswith('IMAGE'):\n",
    "        start_row = 6 + row_pos * (len(years) + 5)\n",
    "        end_row = start_row + len(years) -1\n",
    "    \n",
    "    col_pos = scenarios.index(scenario)\n",
    "    start_column = 1 + col_pos * (len(techs) + 4)\n",
    "    if scenario.startswith('REMIND'):\n",
    "        start_column = 1 + 4 * (len(techs_image) + 4) + (col_pos - 4) * (len(techs) + 4)\n",
    "    end_column = start_column + len(techs)\n",
    "    columns_to_load = xlsxwriter.utility.xl_col_to_name(start_column)+':'+xlsxwriter.utility.xl_col_to_name(end_column)\n",
    "    \n",
    "    df = pd.read_excel(file_path, sheet_name=sheet_name, engine='openpyxl', skiprows=range(1, start_row + 1), nrows=end_row - start_row + 1, usecols=columns_to_load)\n",
    "    df.columns = df.iloc[0]\n",
    "    df = df[1:]\n",
    "    df = df.set_index([df.columns[0]])\n",
    "    \n",
    "    return df"
   ]
  },
  {
   "cell_type": "code",
   "execution_count": null,
   "id": "6e44f2b6-fcc2-4209-a920-88b98f19694b",
   "metadata": {},
   "outputs": [],
   "source": [
    "data = {}\n",
    "for region in regions_remind: \n",
    "    data[region] = load_table(scenario, region)"
   ]
  },
  {
   "cell_type": "code",
   "execution_count": null,
   "id": "cf2634fa-b5a6-4d35-91b8-d26f3f137002",
   "metadata": {},
   "outputs": [],
   "source": [
    "# Assuming you have a list of dataframes called list_of_dataframes\n",
    "result_df = data['CAZ'].copy()\n",
    "result_df[:] = 0\n",
    "for reg in data:\n",
    "    result_df += data[reg]\n",
    "df = result_df"
   ]
  },
  {
   "cell_type": "code",
   "execution_count": null,
   "id": "47afca3d-8cc7-4907-b00c-e83d2200fc4b",
   "metadata": {},
   "outputs": [],
   "source": [
    "# Combine and rename columns\n",
    "df = df.assign(\n",
    "    Biomass=df['Biomass CHP'] + df['Biomass IGCC'],\n",
    "    Solar=df['Solar CSP'] + df['Solar PV Centralized'],\n",
    "    Wind=df['Wind Onshore'] + df['Wind Offshore'],\n",
    "    Coal_CCS=df['Coal PC CCS'] + df['Coal IGCC CCS'],\n",
    "    Coal=df['Coal PC'] + df['Coal IGCC'] + df['Coal CHP'],\n",
    "    Gas=df['Gas OC'] + df['Gas CC'] + df['Gas CHP']\n",
    ")"
   ]
  },
  {
   "cell_type": "code",
   "execution_count": null,
   "id": "928f24ab-2f45-4edf-bd09-cb0648510202",
   "metadata": {},
   "outputs": [],
   "source": [
    "# Rename specific columns\n",
    "column_rename_dict = {\n",
    "    'Biomass IGCC CCS': 'Biomass CCS',\n",
    "    'Gas CC CCS': 'Gas CCS',\n",
    "    'Oil ST': 'Oil',\n",
    "    'Coal_CCS': 'Coal CCS'}\n",
    "\n",
    "df = df.rename(columns=column_rename_dict)"
   ]
  },
  {
   "cell_type": "code",
   "execution_count": null,
   "id": "89231fd0-3637-4216-bb8e-d1bf196f7bec",
   "metadata": {},
   "outputs": [],
   "source": [
    "# Drop the original columns that were combined\n",
    "df = df.drop(columns=['Biomass CHP', 'Biomass IGCC', 'Wind Onshore', 'Wind Offshore',\n",
    "                      'Solar CSP', 'Solar PV Centralized',\n",
    "                      'Coal PC CCS', 'Coal IGCC CCS',\n",
    "                      'Coal PC', 'Coal IGCC', 'Coal CHP',\n",
    "                      'Gas OC', 'Gas CC', 'Gas CHP'])"
   ]
  },
  {
   "cell_type": "code",
   "execution_count": null,
   "id": "f4947652-09d7-4ded-961f-7025f7715784",
   "metadata": {},
   "outputs": [],
   "source": [
    "# Desired order\n",
    "reorder = [\"Biomass CCS\", \"Biomass\", \"Solar\", \"Wind\", \"Geothermal\", \"Hydro\", \"Nuclear\", \"Coal CCS\", \"Gas CCS\", \"Coal\", \"Gas\", \"Oil\"]\n",
    "df = df[reorder]"
   ]
  },
  {
   "cell_type": "code",
   "execution_count": null,
   "id": "c3b9b95d-d1e2-49a6-8f75-46448159f3c4",
   "metadata": {},
   "outputs": [],
   "source": [
    "elec_stack = [list(df[tech]) for tech in reorder]\n",
    "\n",
    "for i in range(0,len(years)):\n",
    "    elec_prod = sum([elec_stack[x][i] for x in range(0, len(reorder))])\n",
    "    for j in range(0,len(reorder)):\n",
    "        elec_stack[j][i] = elec_stack[j][i] / elec_prod * 100"
   ]
  },
  {
   "cell_type": "code",
   "execution_count": null,
   "id": "36639ebe-78c7-420e-a037-18c4981c7822",
   "metadata": {},
   "outputs": [],
   "source": [
    "row_to_plot = df.loc[year]\n",
    "\n",
    "# Define a custom color palette\n",
    "colors = {\n",
    "    'Biomass CCS': '#6ed503',\n",
    "    'Biomass': '#9fd4e4',\n",
    "    'Solar': '#5db6e4',\n",
    "    'Wind': '#0077ba',\n",
    "    'Geothermal': '#0056a3',\n",
    "    'Hydro': '#00337a',\n",
    "    'Nuclear': '#011262',\n",
    "    'Coal CCS': 'purple',\n",
    "    'Gas CCS': 'indigo',\n",
    "    'Coal': '#777777',\n",
    "    'Gas': '#555555',\n",
    "    'Oil': '#333333'\n",
    "}\n",
    "\n",
    "# Settings\n",
    "font = {'size'   : 12}\n",
    "matplotlib.rc('font', **font)\n",
    "\n",
    "# Set up Figure\n",
    "fig = plt.figure(figsize=(7.08661, 4)) \n",
    "gs = gridspec.GridSpec(2, 1, height_ratios=[1, 4]) \n",
    "ax = plt.subplot(gs[1])\n",
    "\n",
    "ax.stackplot(years, elec_stack, linestyle='dashed', colors=[colors[label] for label in row_to_plot.index], edgecolor=['black'])\n",
    "\n",
    "ax.set_xlabel('Year [-]')\n",
    "ax.set_ylabel('Electricity share [%]',labelpad=15)\n",
    "ax.set_xlim([2005,2100])\n",
    "ax.set_ylim([0,100])\n",
    "\n",
    "\n",
    "fig.tight_layout()\n",
    "plt.savefig('Output/Figure S2 ' + scenario + '.png', dpi=500)"
   ]
  },
  {
   "cell_type": "code",
   "execution_count": null,
   "id": "4825d23f-7252-4f49-9697-76e259645680",
   "metadata": {},
   "outputs": [],
   "source": [
    "df.to_excel('Output/Figure S2 ' + scenario + '.xlsx')"
   ]
  },
  {
   "cell_type": "code",
   "execution_count": null,
   "id": "c0f9d9cc-1d9a-4e06-a44e-a62bc1bf017b",
   "metadata": {},
   "outputs": [],
   "source": []
  },
  {
   "cell_type": "code",
   "execution_count": null,
   "id": "9002aae0-c3aa-4748-8b4d-0f02e7d07783",
   "metadata": {},
   "outputs": [],
   "source": []
  }
 ],
 "metadata": {
  "kernelspec": {
   "display_name": "Python 3 (ipykernel)",
   "language": "python",
   "name": "python3"
  },
  "language_info": {
   "codemirror_mode": {
    "name": "ipython",
    "version": 3
   },
   "file_extension": ".py",
   "mimetype": "text/x-python",
   "name": "python",
   "nbconvert_exporter": "python",
   "pygments_lexer": "ipython3",
   "version": "3.9.18"
  }
 },
 "nbformat": 4,
 "nbformat_minor": 5
}
