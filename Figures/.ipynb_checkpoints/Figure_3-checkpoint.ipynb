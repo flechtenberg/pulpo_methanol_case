{
 "cells": [
  {
   "cell_type": "markdown",
   "id": "9571df5c",
   "metadata": {},
   "source": [
    "This notebook creates Figure 1 for a selected scenario. Requirement: the specified scenario must have been calculated and stored in the \"results_meoh_case.xlsx\""
   ]
  },
  {
   "cell_type": "code",
   "execution_count": null,
   "id": "7b8c226b",
   "metadata": {},
   "outputs": [],
   "source": [
    "scenario = 'Base'\n",
    "year = '2040'"
   ]
  },
  {
   "cell_type": "markdown",
   "id": "673a437b",
   "metadata": {},
   "source": [
    "### Import Section"
   ]
  },
  {
   "cell_type": "code",
   "execution_count": null,
   "id": "30a63021",
   "metadata": {},
   "outputs": [],
   "source": [
    "import pandas as pd\n",
    "import matplotlib.pyplot as plt\n",
    "import numpy as np\n",
    "import matplotlib\n",
    "from matplotlib import gridspec\n",
    "from matplotlib.patheffects import PathPatchEffect, SimpleLineShadow, Normal\n",
    "import itertools\n",
    "\n",
    "plt.rcParams[\"figure.figsize\"] = [8, 4.20]\n",
    "plt.rcParams[\"figure.autolayout\"] = True"
   ]
  },
  {
   "cell_type": "markdown",
   "id": "ba24b2d7",
   "metadata": {},
   "source": [
    "### Prepare data"
   ]
  },
  {
   "cell_type": "code",
   "execution_count": null,
   "id": "78c6b82f",
   "metadata": {},
   "outputs": [],
   "source": [
    "df = pd.read_excel('Input/results_meoh_case.xlsx')\n",
    "filtered_df = df[(df['scenario'] == scenario) & (df['year'] == int(year))].groupby(by=['epsilon [%]', 'tech']).sum()"
   ]
  },
  {
   "cell_type": "markdown",
   "id": "b9f5bdda",
   "metadata": {},
   "source": [
    "Extract all calculated epsilons:"
   ]
  },
  {
   "cell_type": "code",
   "execution_count": null,
   "id": "0e46c276",
   "metadata": {},
   "outputs": [],
   "source": [
    "epsilons = set([x[0] for x in filtered_df.index])"
   ]
  },
  {
   "cell_type": "markdown",
   "id": "d4437630",
   "metadata": {},
   "source": [
    "Extract the additional electricity 💡 capacities:"
   ]
  },
  {
   "cell_type": "code",
   "execution_count": null,
   "id": "ccea9bb8",
   "metadata": {},
   "outputs": [],
   "source": [
    "elec = [filtered_df.loc[eps,'BAU']['elec [TWh]'] for eps in sorted(epsilons)]\n",
    "elec = [0] + elec"
   ]
  },
  {
   "cell_type": "markdown",
   "id": "907ecb6e",
   "metadata": {},
   "source": [
    "Extract the GWP reduction ☁️ potential:"
   ]
  },
  {
   "cell_type": "code",
   "execution_count": null,
   "id": "bbf4eec3",
   "metadata": {},
   "outputs": [],
   "source": [
    "gwp_reduction = [-filtered_df.loc[eps,'BAU']['GWP reduction [Mt]'] for eps in sorted(epsilons)]\n",
    "gwp_reduction = [0] + gwp_reduction"
   ]
  },
  {
   "cell_type": "markdown",
   "id": "53d5bc7e",
   "metadata": {},
   "source": [
    "Full abatement target:"
   ]
  },
  {
   "cell_type": "code",
   "execution_count": null,
   "id": "376515de",
   "metadata": {},
   "outputs": [],
   "source": [
    "net_zero = max(filtered_df['net-zero GWP [Mt]'])"
   ]
  },
  {
   "cell_type": "code",
   "execution_count": null,
   "id": "e6ff276a",
   "metadata": {},
   "outputs": [],
   "source": [
    "net_zero"
   ]
  },
  {
   "cell_type": "markdown",
   "id": "bb6a0b32",
   "metadata": {},
   "source": [
    "Interpolation to estimate corresponding epsilon and find the electricity capacity:"
   ]
  },
  {
   "cell_type": "code",
   "execution_count": null,
   "id": "49d560e1",
   "metadata": {},
   "outputs": [],
   "source": [
    "eps_old = 0\n",
    "gwp_old = 0\n",
    "eps_list = [0] + sorted(set(x[0] for x in filtered_df.index))\n",
    "\n",
    "for eps, gwp in zip(eps_list, gwp_reduction):\n",
    "    if -gwp > net_zero and gwp != 0:\n",
    "        print(-gwp)\n",
    "        print(-gwp_old)\n",
    "        eps_net_zero = (-net_zero - gwp_old) / (gwp - gwp_old) * (eps - eps_old) + eps_old\n",
    "        net_zero_elec = (-net_zero - gwp_old) / (gwp - gwp_old) * (\n",
    "            filtered_df.loc[eps, 'BAU']['elec [TWh]'] -\n",
    "            filtered_df.loc[eps_old, 'BAU']['elec [TWh]']\n",
    "        ) + filtered_df.loc[eps_old, 'BAU']['elec [TWh]']\n",
    "        break\n",
    "    eps_old, gwp_old = eps, gwp\n"
   ]
  },
  {
   "cell_type": "markdown",
   "id": "c49aaaf9",
   "metadata": {},
   "source": [
    "<font color=\"grey\">BAU</font>, <font color=\"red\">DAC</font>, <font color=\"blue\">PSC</font> distribution:\n"
   ]
  },
  {
   "cell_type": "code",
   "execution_count": null,
   "id": "39961bb9",
   "metadata": {},
   "outputs": [],
   "source": [
    "meoh_stack = [[0]+[filtered_df.loc[eps,'PSC']['meoh [Mt]'] for eps in sorted(epsilons)], [0]+[filtered_df.loc[eps,'DAC']['meoh [Mt]'] for eps in sorted(epsilons)], [100]+[filtered_df.loc[eps,'BAU']['meoh [Mt]'] for eps in sorted(epsilons)]]"
   ]
  },
  {
   "cell_type": "code",
   "execution_count": null,
   "id": "10b0ee8e",
   "metadata": {},
   "outputs": [],
   "source": [
    "epsilons = sorted(list(set([x[0] for x in filtered_df.index])))\n",
    "epsilons = [0] + epsilons"
   ]
  },
  {
   "cell_type": "markdown",
   "id": "d959cccb",
   "metadata": {},
   "source": [
    "### Plotting function 🎨"
   ]
  },
  {
   "cell_type": "code",
   "execution_count": null,
   "id": "b1e0234a",
   "metadata": {},
   "outputs": [],
   "source": [
    "def flip(items, ncol):\n",
    "    return itertools.chain(*[items[i::ncol] for i in range(ncol)])"
   ]
  },
  {
   "cell_type": "code",
   "execution_count": null,
   "id": "2092f619",
   "metadata": {},
   "outputs": [],
   "source": [
    "# Settings\n",
    "font = {'size'   : 22}\n",
    "matplotlib.rc('font', **font)\n",
    "cmap = np.concatenate([['#4492f4'],['#f84540'],['#D2D2D3']])\n",
    "# Set up Figure\n",
    "fig = plt.figure(figsize=(12, 6)) \n",
    "gs = gridspec.GridSpec(2, 1, height_ratios=[1, 4]) \n",
    "ax = plt.subplot(gs[1])\n",
    "\n",
    "ax.stackplot(epsilons, meoh_stack, linestyle='dashed', labels=['a','b','c'], linewidth=2.0, colors=cmap, edgecolor=['black'])\n",
    "\n",
    "ax.set_xlabel(r'Additional electricity bound $\\varepsilon$ [%]')\n",
    "ax.set_ylabel('Technology share [%]',labelpad=15)\n",
    "ax.set_xlim([0,2.5])\n",
    "ax.set_ylim([0,100])\n",
    "\n",
    "handles, labels = ax.get_legend_handles_labels()\n",
    "\n",
    "# GWP Reduction\n",
    "ax2 = ax.twinx()\n",
    "ax2.plot(epsilons, gwp_reduction, linestyle='solid', color='black',linewidth=5.0, label=['GWP'], path_effects=\n",
    "[SimpleLineShadow(linewidth=8), Normal()]) #color='#47d147'\n",
    "ax2.set_ylabel(r'$\\Delta$ GWP 100a [Mt CO$_2$eq]')\n",
    "ax2.yaxis.label.set_color('black')\n",
    "ax2.ticklabel_format(useOffset=False)\n",
    "ax2.set_ylim([-250,0])\n",
    "\n",
    "# Electricity\n",
    "ax3 = plt.subplot(gs[0])\n",
    "ax3.set_xlim([0,2.5])\n",
    "ax3.plot(epsilons, elec, linestyle='dotted', color = '#e3612f', linewidth=6.0, label=['Elec']) # color='#ffcc00'\n",
    "ax3.set_ylabel('[TWh]')\n",
    "ax3.yaxis.label.set_color('black')\n",
    "ax3.set_ylim([0,1300])\n",
    "ax3.set_xticks([])\n",
    "\n",
    "# Full Abatement\n",
    "if scenario in ['NDC', 'PkBudg500']:\n",
    "    ax3.plot([-2,eps_net_zero], [0,net_zero_elec], linestyle='', marker='o', markerfacecolor='lightgreen', markeredgecolor='green', markersize=12,label=['Full Abatement'])\n",
    "    ax2.plot([-2,eps_net_zero], [0,-net_zero], linestyle='', marker='o', markerfacecolor='lightgreen', markeredgecolor='green', markersize=15)\n",
    "\n",
    "# Handle Magic\n",
    "handles2, labels2 = ax2.get_legend_handles_labels()\n",
    "handles3, labels3 = ax3.get_legend_handles_labels()\n",
    "#ax3.legend(flip(handles[::-1]+handles2+handles3,3), ['BAU',r'$\\Delta$GWP','Direct air capture','Electricity','Point-source capture','\\\"Full abatement\\\"\"'], bbox_to_anchor=(-0.1, 1.1), ncol=3)\n",
    "\n",
    "fig.tight_layout()\n",
    "plt.savefig('Output/Figure 3 ' + scenario + ' ' + str(year) + '.png', dpi=600)"
   ]
  },
  {
   "cell_type": "markdown",
   "id": "42619942-422c-498f-99aa-e82c48e56bad",
   "metadata": {},
   "source": [
    "### Save as CSV"
   ]
  },
  {
   "cell_type": "code",
   "execution_count": null,
   "id": "65223ee6-fe36-48b3-a91e-15005ca49e3e",
   "metadata": {},
   "outputs": [],
   "source": [
    "df_dict = {'Epsilon [-]': epsilons, 'PSC [Mt]': meoh_stack[0], 'DAC [Mt]': meoh_stack[1], 'BAU [Mt]': meoh_stack[2],'Electricity [TWh]': elec}"
   ]
  },
  {
   "cell_type": "code",
   "execution_count": null,
   "id": "7235c660-c4a3-4adb-8585-9c64cc513797",
   "metadata": {},
   "outputs": [],
   "source": [
    "df = pd.DataFrame(df_dict)"
   ]
  },
  {
   "cell_type": "code",
   "execution_count": null,
   "id": "ad514e8e-8ce8-4690-a0ca-0b10cb7ddc16",
   "metadata": {},
   "outputs": [],
   "source": [
    "df.to_excel('Output/Figure 3 ' + scenario + ' ' + str(year) + '.xlsx')"
   ]
  },
  {
   "cell_type": "code",
   "execution_count": null,
   "id": "75786f61-6138-4970-897d-523df65e5f2f",
   "metadata": {},
   "outputs": [],
   "source": []
  }
 ],
 "metadata": {
  "kernelspec": {
   "display_name": "Python 3 (ipykernel)",
   "language": "python",
   "name": "python3"
  },
  "language_info": {
   "codemirror_mode": {
    "name": "ipython",
    "version": 3
   },
   "file_extension": ".py",
   "mimetype": "text/x-python",
   "name": "python",
   "nbconvert_exporter": "python",
   "pygments_lexer": "ipython3",
   "version": "3.9.18"
  }
 },
 "nbformat": 4,
 "nbformat_minor": 5
}
