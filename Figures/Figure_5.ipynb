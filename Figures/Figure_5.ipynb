{
 "cells": [
  {
   "cell_type": "markdown",
   "id": "25f98e87",
   "metadata": {},
   "source": [
    "# Figure 5 Notebook\n",
    "This notebook creates Figure 5 for a selected scenario related to green methanol production systems. (*full abatement*)\n",
    "\n",
    "## Main Function\n",
    "Creates Figure 5 for a selected scenario related to green methanol production systems.\n",
    "\n",
    "## Inputs\n",
    "- Scenario and year specified in the notebook.\n",
    "- Data from `results_meoh_case.xlsx` file in the `Input` directory.\n",
    "- Data from `Ecoinvent_to_PREMISE.xlsx` file in the `Input` directory.\n",
    "- Data from `countries.geojson` file in the `Input` directory.\n",
    "\n",
    "## Outputs\n",
    "- Plot saved as 'Output/Figure 5 [scenario] [year].png'\n",
    "- Processed data saved as 'Output/Figure 5 [scenario] [year].xlsx'"
   ]
  },
  {
   "cell_type": "markdown",
   "id": "0f444a8a-547b-424d-9ed4-e4a541a9fded",
   "metadata": {},
   "source": [
    "The geopandas package is required for this figure"
   ]
  },
  {
   "cell_type": "code",
   "execution_count": null,
   "id": "60117e43",
   "metadata": {},
   "outputs": [],
   "source": [
    "scenario = 'PkBudg500'\n",
    "year = '2030'"
   ]
  },
  {
   "cell_type": "markdown",
   "id": "1f9c7019",
   "metadata": {},
   "source": [
    "### Import Section"
   ]
  },
  {
   "cell_type": "code",
   "execution_count": null,
   "id": "0c0ae4ee",
   "metadata": {},
   "outputs": [],
   "source": [
    "import pandas as pd\n",
    "import matplotlib.pyplot as plt\n",
    "import numpy as np\n",
    "import copy\n",
    "import geopandas\n",
    "from mpl_toolkits.axes_grid1 import make_axes_locatable\n",
    "import copy\n",
    "import os\n",
    "import pandas as pd\n",
    "\n",
    "plt.rcParams[\"figure.figsize\"] = [10, 5.00]\n",
    "plt.rcParams[\"figure.autolayout\"] = True"
   ]
  },
  {
   "cell_type": "markdown",
   "id": "dc546806",
   "metadata": {},
   "source": [
    "### Selecting a colormap"
   ]
  },
  {
   "cell_type": "code",
   "execution_count": null,
   "id": "4755239d",
   "metadata": {},
   "outputs": [],
   "source": [
    "import matplotlib.colors as clr\n",
    "some_matrix = np.random.rand(10,10)\n",
    "cmap = clr.LinearSegmentedColormap.from_list('custom green', ['#4492f4','#6b33a3','#f84540'], N=256)"
   ]
  },
  {
   "cell_type": "markdown",
   "id": "47bacd18",
   "metadata": {},
   "source": [
    "### Prepare data"
   ]
  },
  {
   "cell_type": "markdown",
   "id": "bffc1dc1",
   "metadata": {},
   "source": [
    "Mapping Data 🗺️"
   ]
  },
  {
   "cell_type": "markdown",
   "id": "149b5067",
   "metadata": {},
   "source": [
    "Import the geography (country border) files via geopandas / geojson."
   ]
  },
  {
   "cell_type": "code",
   "execution_count": null,
   "id": "2bb5a488",
   "metadata": {
    "scrolled": true
   },
   "outputs": [],
   "source": [
    "countries = geopandas.read_file('Input/countries.geojson')"
   ]
  },
  {
   "cell_type": "markdown",
   "id": "fec10830",
   "metadata": {},
   "source": [
    "Combine the countries to the REMIND supra-regions. The \"Ecoinvent_to_PREMIS.xslx\" contains the mapping of country to region."
   ]
  },
  {
   "cell_type": "code",
   "execution_count": null,
   "id": "f85bdfd0",
   "metadata": {},
   "outputs": [],
   "source": [
    "image_regions = countries.copy()\n",
    "image_regions.set_index(['shortname'],inplace=True)\n",
    "\n",
    "# Define regions and sheet number\n",
    "regions = [\"LAM\", \"OAS\", \"SSA\", \"EUR\", \"NEU\", \"MEA\", \"REF\", \"CAZ\", \"CHA\", \"IND\", \"JPN\", \"USA\"]\n",
    "\n",
    "# Load the Excel file\n",
    "df  = pd.read_excel('Input/Ecoinvent_to_PREMISE.xlsx', keep_default_na=False)\n",
    "\n",
    "# Create a dictionary of regions\n",
    "regions_dict = {reg: [] for reg in df}\n",
    "for reg in df:\n",
    "    for i in df.index:\n",
    "        if df.loc[i, reg] != 0:\n",
    "            regions_dict[reg].append(df.loc[i, reg])\n",
    "\n",
    "# Create premise_regions DataFrame\n",
    "premise_regions = {\n",
    "    reg: image_regions.loc[regions_dict[reg]]['geometry'].unary_union\n",
    "    for reg in regions\n",
    "}\n",
    "\n",
    "premise_regions = pd.DataFrame({\"geometry\": premise_regions})\n",
    "premise_regions = geopandas.GeoDataFrame(premise_regions, geometry='geometry')"
   ]
  },
  {
   "cell_type": "markdown",
   "id": "3e673d51",
   "metadata": {},
   "source": [
    "Production data 🧪"
   ]
  },
  {
   "cell_type": "markdown",
   "id": "aa29dad9",
   "metadata": {},
   "source": [
    "Import the results from the optimization. The \"results_meoh_case.xlsx\" file contains the solution to several discrete values of epsilon. Thus, to find the solution which just abates for the emissions of BAU methanol production, a linear interpolation between the two adjacent values is performed:"
   ]
  },
  {
   "cell_type": "code",
   "execution_count": null,
   "id": "64e32bbe",
   "metadata": {},
   "outputs": [],
   "source": [
    "df = pd.read_excel('Input/results_meoh_case.xlsx')"
   ]
  },
  {
   "cell_type": "code",
   "execution_count": null,
   "id": "5c29fb23",
   "metadata": {},
   "outputs": [],
   "source": [
    "# reduce file to the selected scenario / year\n",
    "filtered_df = df[(df['scenario'] == scenario) & (df['year'] == int(year))]\n",
    "# find all the \"BAU\" rows, there the GWP reduction data is storred\n",
    "filtered_df2 = filtered_df[filtered_df['net-zero GWP [Mt]'] != 0]\n",
    "# read the gwp reduction target\n",
    "net_zero_gwp = max(filtered_df2['net-zero GWP [Mt]'])\n",
    "# filter the data to those there the reduction potential is smaller or bigger than the target\n",
    "filtered_df3 = filtered_df2[filtered_df2['GWP reduction [Mt]'] < net_zero_gwp]\n",
    "filtered_df4 = filtered_df2[filtered_df2['GWP reduction [Mt]'] > net_zero_gwp]\n",
    "# read the closest values to the target\n",
    "lower = max(filtered_df3['GWP reduction [Mt]'])\n",
    "upper = min(filtered_df4['GWP reduction [Mt]'])\n",
    "# get the associated epsilon values\n",
    "lower_eps = max(filtered_df3['epsilon [%]'])\n",
    "upper_eps = min(filtered_df4['epsilon [%]'])\n",
    "# find the epsilon which linearily interpolates between the two closest solutions and the target\n",
    "eps = (net_zero_gwp - lower)/(upper - lower)*(upper_eps-lower_eps) + lower_eps\n",
    "# Use this epsilon to interpolate all the production data results"
   ]
  },
  {
   "cell_type": "code",
   "execution_count": null,
   "id": "3995f7bd",
   "metadata": {},
   "outputs": [],
   "source": [
    "df1 = filtered_df[filtered_df['epsilon [%]'] == lower_eps]\n",
    "df2 = filtered_df[filtered_df['epsilon [%]'] == upper_eps]"
   ]
  },
  {
   "cell_type": "code",
   "execution_count": null,
   "id": "759f25ff",
   "metadata": {},
   "outputs": [],
   "source": [
    "# Create a new DataFrame for interpolated data\n",
    "interpolated_rows = []\n",
    "\n",
    "# Iterate through each row and interpolate the values based on epsilon\n",
    "for index, row1 in df1.iterrows():\n",
    "    df2red = df2[(df2['region'] == row1['region']) & (df2['tech'] == row1['tech'])]\n",
    "    for index2, row2 in df2red.iterrows():\n",
    "        if row1['epsilon [%]'] == eps:\n",
    "            # No interpolation needed, just append the row from df1\n",
    "            interpolated_rows.append(row1)\n",
    "        else:\n",
    "            # Linear interpolation\n",
    "            alpha = (eps - lower_eps) / (upper_eps - lower_eps)\n",
    "            interpolated_values = {}\n",
    "            for column in df1.columns:\n",
    "                if column not in ['scenario', 'year', 'epsilon [%]', 'region', 'tech']:\n",
    "                    interpolated_values[column] = alpha * row2[column] + (1 - alpha) * row1[column]\n",
    "                elif column == 'epsilon [%]':\n",
    "                    interpolated_values[column] = eps\n",
    "                else:\n",
    "                    interpolated_values[column] = row1[column]\n",
    "            interpolated_rows.append(interpolated_values)\n",
    "\n",
    "# Create the interpolated DataFrame using pandas.concat\n",
    "interpolated_df = pd.concat([pd.DataFrame([row]) for row in interpolated_rows], ignore_index=True)\n",
    "\n",
    "prod_data = interpolated_df"
   ]
  },
  {
   "cell_type": "markdown",
   "id": "015b8afb",
   "metadata": {},
   "source": [
    "### Plotting function 🎨"
   ]
  },
  {
   "cell_type": "markdown",
   "id": "55096c7f",
   "metadata": {},
   "source": [
    "Coordinates to properly align the boxes with the regions"
   ]
  },
  {
   "cell_type": "code",
   "execution_count": null,
   "id": "bd662d0a",
   "metadata": {},
   "outputs": [],
   "source": [
    "coords = {'CAZ': [-110, 60],\n",
    "          'CHA': [97,30],\n",
    "          'EUR': [10,50],\n",
    "          'IND': [80,10],\n",
    "          'JPN': [160,20],\n",
    "          'LAM': [-60,-10],\n",
    "          'MEA': [35,25],\n",
    "          'NEU': [-20,65],\n",
    "          'OAS': [105, 51],\n",
    "          'REF': [65,60],\n",
    "          'SSA': [25,0],\n",
    "          'USA': [-100,40]}"
   ]
  },
  {
   "cell_type": "markdown",
   "id": "36bb9da3",
   "metadata": {},
   "source": [
    "(Complex) plotting function"
   ]
  },
  {
   "cell_type": "code",
   "execution_count": null,
   "id": "7bfcbe0c",
   "metadata": {},
   "outputs": [],
   "source": [
    "def plot_CO2_map(premise_regions, data):\n",
    "    bau_production = float(data[data['tech'] == 'BAU']['meoh [Mt]'])\n",
    "    \n",
    "    premise_regions['choice'] = 0.0\n",
    "    premise_regions['choice2'] = 0.0\n",
    "    premise_regions['choice3'] = 0.0\n",
    "    premise_regions['choice4'] = 0.0\n",
    "    \n",
    "    idx_old = 0\n",
    "    for ind in data.index:\n",
    "        tech = data['tech'][ind]\n",
    "        reg = data['region'][ind]\n",
    "        if 'DAC' == tech:\n",
    "            premise_regions['choice'][reg] = data['meoh [Mt]'][ind]\n",
    "        if 'PSC' == tech:\n",
    "            premise_regions['choice2'][reg] = data['meoh [Mt]'][ind]\n",
    "    \n",
    "    for reg in premise_regions.index:\n",
    "        premise_regions['choice4'][reg] = premise_regions['choice2'][reg]+premise_regions['choice'][reg]\n",
    "        if premise_regions['choice2'][reg] != 0 and premise_regions['choice'][reg] is not 0:\n",
    "            premise_regions['choice3'][reg] = premise_regions['choice'][reg]/(premise_regions['choice2'][reg]+premise_regions['choice'][reg])\n",
    "        if premise_regions['choice2'][reg] == 0:\n",
    "            premise_regions['choice3'][reg] = 1\n",
    "        if premise_regions['choice'][reg] <= 0.0001:\n",
    "            premise_regions['choice3'][reg] = 0.001\n",
    "        \n",
    "    plt.rcParams['figure.figsize'] = [7.08661, 5]\n",
    "\n",
    "    # Map for Methanol from DAC CO2\n",
    "    fig, axs = plt.subplots(1, 1)\n",
    "    divider = make_axes_locatable(axs)\n",
    "\n",
    "    cax = divider.append_axes(\"right\", size=\"5%\", pad=0.1)    \n",
    "    premise_regions.plot(column='choice3', ax=axs, legend=False, edgecolor='k', cmap=cmap, facecolor=\"none\", vmin=0, vmax=5) #, legend_kwds={'label': 'Methanol from DAC CO2 [MT]', \"orientation\": \"vertical\"})\n",
    "    #premise_regions.plot(column='choice', ax=axs, legend=True, cax=cax, edgecolor='k', cmap='OrRd', facecolor=\"none\", vmin=0, legend_kwds={'label': 'Methanol from DAC CO2 [MT]', \"orientation\": \"vertical\"})\n",
    "    premise_regions1 = premise_regions[premise_regions['choice3'] > 0]\n",
    "    premise_regions1.plot(column='choice3', ax=axs, legend=False, edgecolor='k', cmap=cmap, vmin=0, vmax=1) #, legend_kwds={\"orientation\": \"vertical\", \"ticks\": [0,0.25,0.5,0.75,1]})\n",
    "    #premise_regions1.plot(column='choice', ax=axs, legend=True, cax=cax, edgecolor='k', cmap='OrRd', vmin=0, legend_kwds={'label': 'Methanol from DAC CO2 [MT]', \"orientation\": \"vertical\"})\n",
    "    \n",
    "    sm = plt.cm.ScalarMappable(cmap=cmap, norm=plt.Normalize(vmin=0, vmax=1))\n",
    "    sm._A = []\n",
    "    cbr = fig.colorbar(sm, cax=cax, ticks=[0,0.5,1], orientation=\"vertical\")\n",
    "    cbr.ax.set_yticklabels(['PSC', 'DAC & PSC','DAC'])\n",
    "    #cbr.ax.tick_params(rotation=90)\n",
    "    \n",
    "    'CAZ'\n",
    "    axs.annotate(\"\", xy=(-110, 58), xytext=(-90, 51.36), arrowprops={\"color\": \"black\", \"arrowstyle\": \"-\", \"linestyle\": \"--\"})\n",
    "    axs.annotate(\"\", xy=(125, -20.02), xytext=(140, -25), arrowprops={\"color\": \"black\", \"arrowstyle\": \"-\", \"linestyle\": \"--\"})\n",
    "    circle = plt.Circle((140, -25), 2, edgecolor='black', facecolor='gray', zorder=3, linewidth=1)\n",
    "    axs.add_patch(circle)\n",
    "    \n",
    "    'USA' #-100,40\n",
    "    axs.annotate(\"\", xy=(-100,40), xytext=(-150,65), arrowprops={\"color\": \"black\", \"arrowstyle\": \"-\", \"linestyle\": \"--\"})\n",
    "    circle = plt.Circle((-150,65), 2, edgecolor='black', facecolor='gray', zorder=3, linewidth=1)\n",
    "    axs.add_patch(circle)\n",
    "    \n",
    "    'NEU'\n",
    "    axs.annotate(\"\", xy=(-20, 65), xytext=(35,40), color=\"black\", arrowprops={\"color\": \"black\", \"arrowstyle\": \"-\", \"linestyle\": \"--\"})\n",
    "    circle = plt.Circle((35,40), 2, edgecolor='black', facecolor='gray', zorder=3, linewidth=1)\n",
    "    axs.add_patch(circle)\n",
    "    axs.annotate(\"\", xy=(-20, 65), xytext=(7, 60), arrowprops={\"color\": \"black\", \"arrowstyle\": \"-\", \"linestyle\": \"--\"})\n",
    "    circle = plt.Circle((7, 60), 2, edgecolor='black', facecolor='gray', zorder=3, linewidth=1)\n",
    "    axs.add_patch(circle)\n",
    "    \n",
    "    'JAP'\n",
    "    axs.annotate(\"\", xy=(170, 20), xytext=(140,40), color=\"black\", arrowprops={\"color\": \"black\", \"arrowstyle\": \"-\", \"linestyle\": \"--\"})\n",
    "    circle = plt.Circle((140,40), 2, edgecolor='black', facecolor='gray', zorder=3, linewidth=1)\n",
    "    axs.add_patch(circle)\n",
    "    \n",
    "    'OAS'\n",
    "    axs.annotate(\"\", xy=(105, 50), xytext=(125,0), color=\"black\", arrowprops={\"color\": \"black\", \"arrowstyle\": \"-\", \"linestyle\": \"--\"})\n",
    "    circle = plt.Circle((125,0), 2, edgecolor='black', facecolor='gray', zorder=3, linewidth=1)\n",
    "    axs.add_patch(circle)\n",
    "    axs.annotate(\"\", xy=(105, 50), xytext=(67,33), arrowprops={\"color\": \"black\", \"arrowstyle\": \"-\", \"linestyle\": \"--\"})\n",
    "    circle = plt.Circle((67,33), 2, edgecolor='black', facecolor='gray', zorder=3, linewidth=1)\n",
    "    axs.add_patch(circle)\n",
    "    \n",
    "    props = dict(boxstyle='round', facecolor='white', alpha=1.0)\n",
    "    for reg in premise_regions.index:\n",
    "        axs.text(coords[reg][0], coords[reg][1], str(round(premise_regions['choice4'][reg],1)), fontsize=12, verticalalignment='center', horizontalalignment='center', bbox=props)\n",
    "    \n",
    "    props = dict(boxstyle='round', facecolor='#D2D2D3', alpha=1.0)\n",
    "    axs.text(-130, -50, \"BAU: \" + str(round(bau_production,1)) + \" Mt\", fontsize=12, color=\"black\", verticalalignment='center', horizontalalignment='center', bbox=props)\n",
    "    \n",
    "    axs.set_xlim([-180,180])\n",
    "    axs.set_ylim([-60,85])\n",
    "    \n",
    "    axs.set_xticks([])\n",
    "    axs.set_yticks([])\n",
    "    \n",
    "    # CAZ star\n",
    "    axs.plot([-90,125], [51.36,-20.02], markersize=10, marker='*', markerfacecolor='gray', markeredgecolor='black', linestyle = 'None',zorder=15)\n",
    "    \n",
    "    plt.savefig('Output/Figure 5 ' + scenario + '_' + str(year) + '.png', dpi=600)"
   ]
  },
  {
   "cell_type": "markdown",
   "id": "c0c365e0",
   "metadata": {},
   "source": [
    "### Execute plotting ~"
   ]
  },
  {
   "cell_type": "code",
   "execution_count": null,
   "id": "b2470ff3",
   "metadata": {},
   "outputs": [],
   "source": [
    "plot_CO2_map(premise_regions, prod_data)"
   ]
  },
  {
   "cell_type": "code",
   "execution_count": null,
   "id": "2448f879",
   "metadata": {},
   "outputs": [],
   "source": [
    "df = premise_regions[['choice2','choice3','choice4']].rename(\n",
    "    columns={\"choice2\": \"PSC [-]\", \"choice3\": \"DAC [-]\", \"choice4\": \"CCU methanol production [Mt]\"},\n",
    ")"
   ]
  },
  {
   "cell_type": "code",
   "execution_count": null,
   "id": "28a005d3-4379-46ae-8e91-489ba0c902dc",
   "metadata": {},
   "outputs": [],
   "source": [
    "df.to_excel('Output/Figure 5 ' + scenario + '_' + str(year) + '.xlsx')"
   ]
  },
  {
   "cell_type": "code",
   "execution_count": null,
   "id": "c11f1046-33f3-49d5-bf16-711a5c967a6c",
   "metadata": {},
   "outputs": [],
   "source": []
  }
 ],
 "metadata": {
  "kernelspec": {
   "display_name": "Python 3 (ipykernel)",
   "language": "python",
   "name": "python3"
  },
  "language_info": {
   "codemirror_mode": {
    "name": "ipython",
    "version": 3
   },
   "file_extension": ".py",
   "mimetype": "text/x-python",
   "name": "python",
   "nbconvert_exporter": "python",
   "pygments_lexer": "ipython3",
   "version": "3.9.19"
  }
 },
 "nbformat": 4,
 "nbformat_minor": 5
}
