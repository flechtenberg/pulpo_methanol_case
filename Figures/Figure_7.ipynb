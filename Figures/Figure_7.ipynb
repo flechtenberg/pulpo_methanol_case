{
 "cells": [
  {
   "cell_type": "markdown",
   "id": "72efad15",
   "metadata": {},
   "source": [
    "This notebook creates Figure 7 for a selected scenario and year. Requirement: the specified scenario must have been calculated for a range of demands and stored in the \"results_meoh_case_demand.xlsx\""
   ]
  },
  {
   "cell_type": "code",
   "execution_count": null,
   "id": "3c9076be",
   "metadata": {},
   "outputs": [],
   "source": [
    "scenario = 'PkBudg500'\n",
    "year = '2040'"
   ]
  },
  {
   "cell_type": "markdown",
   "id": "b085c0e3",
   "metadata": {},
   "source": [
    "### Import Section"
   ]
  },
  {
   "cell_type": "code",
   "execution_count": null,
   "id": "3069b89c",
   "metadata": {},
   "outputs": [],
   "source": [
    "import pandas as pd\n",
    "import matplotlib.pyplot as plt\n",
    "import numpy as np\n",
    "import matplotlib\n",
    "\n",
    "plt.rcParams[\"figure.figsize\"] = [3.14, 2.50]\n",
    "plt.rcParams[\"figure.autolayout\"] = True"
   ]
  },
  {
   "cell_type": "markdown",
   "id": "ee59e4b8",
   "metadata": {},
   "source": [
    "### Prepare Data"
   ]
  },
  {
   "cell_type": "code",
   "execution_count": null,
   "id": "05eada43",
   "metadata": {},
   "outputs": [],
   "source": [
    "df = pd.read_excel('Input/results_meoh_case_demand.xlsx')\n",
    "df = df[(df['scenario'] == scenario) & (df['year'] == int(year))]"
   ]
  },
  {
   "cell_type": "code",
   "execution_count": null,
   "id": "6228e66b",
   "metadata": {},
   "outputs": [],
   "source": [
    "regions = list(set(df['region']))\n",
    "regions.remove('methanol production')\n",
    "demand = sorted(list(set(df['demand [Mt]'])))"
   ]
  },
  {
   "cell_type": "markdown",
   "id": "33295ad5",
   "metadata": {},
   "source": [
    "Extract the production quantities for all the calculated demands and determine the ratio of DAC/PSC."
   ]
  },
  {
   "cell_type": "code",
   "execution_count": null,
   "id": "701d047d",
   "metadata": {},
   "outputs": [],
   "source": [
    "values_list = []\n",
    "for tech in ['PSC', 'DAC']:\n",
    "    for region in regions:\n",
    "        filtered_df = df[(df['region'] == region) & (df['tech']==tech)].sort_values(by='demand [Mt]')\n",
    "        values = list(filtered_df['meoh [Mt]'])\n",
    "        values_list.append(values)\n",
    "ratios = []\n",
    "for i in range(0,len(demand)):\n",
    "    PSC = sum(values_list[n][i] for n in range(0,12))\n",
    "    DAC = sum(values_list[n+12][i] for n in range(0,12))\n",
    "    ratios.append(DAC/PSC)"
   ]
  },
  {
   "cell_type": "markdown",
   "id": "a832b19d",
   "metadata": {},
   "source": [
    "### Plotting 🎨"
   ]
  },
  {
   "cell_type": "code",
   "execution_count": null,
   "id": "7667a3e4",
   "metadata": {},
   "outputs": [],
   "source": [
    "import numpy as np\n",
    "from matplotlib import cm\n",
    "from matplotlib.colors import ListedColormap, LinearSegmentedColormap\n",
    "\n",
    "regions = 12\n",
    "blues = cm.get_cmap('Blues',regions)\n",
    "orrd = cm.get_cmap('OrRd', regions)\n",
    "cmap = np.concatenate([blues(range(regions)), orrd(range(regions)), [[0.25, 0.25, 0.25, 1]]])"
   ]
  },
  {
   "cell_type": "code",
   "execution_count": null,
   "id": "6c8112f9",
   "metadata": {},
   "outputs": [],
   "source": [
    "font = {'size': 12}\n",
    "\n",
    "matplotlib.rc('font', **font)\n",
    "\n",
    "fig, ax = plt.subplots()\n",
    "ax.stackplot(demand, values_list, colors=cmap)\n",
    "\n",
    "#ax.set_title(scenario + ' ' + year)\n",
    "\n",
    "ax.set_xlabel('Final demand [Mt]')\n",
    "ax.set_ylabel('Methanol production [Mt]')\n",
    "\n",
    "ax.set_xlim([20,500])\n",
    "ax.set_ylim([0,200])\n",
    "\n",
    "ax2 = ax.twinx()\n",
    "ax2.plot(demand, ratios, '--', color='blue',linewidth=2.0)\n",
    "ax2.set_ylabel('DAC/PSC ratio [-]')\n",
    "ax2.yaxis.label.set_color('blue')\n",
    "ax2.spines['right'].set_color('blue')\n",
    "ax2.tick_params(axis='y', colors='blue')\n",
    "\n",
    "plt.savefig('Output/Figure 7', dpi=500)"
   ]
  },
  {
   "cell_type": "code",
   "execution_count": null,
   "id": "8b0b1004",
   "metadata": {},
   "outputs": [],
   "source": [
    "df.to_excel('Output/Figure 7.xlsx')"
   ]
  },
  {
   "cell_type": "code",
   "execution_count": null,
   "id": "68891bed-d9f3-47b9-bf0e-8b99f8ce68cd",
   "metadata": {},
   "outputs": [],
   "source": []
  }
 ],
 "metadata": {
  "kernelspec": {
   "display_name": "Python 3 (ipykernel)",
   "language": "python",
   "name": "python3"
  },
  "language_info": {
   "codemirror_mode": {
    "name": "ipython",
    "version": 3
   },
   "file_extension": ".py",
   "mimetype": "text/x-python",
   "name": "python",
   "nbconvert_exporter": "python",
   "pygments_lexer": "ipython3",
   "version": "3.9.19"
  }
 },
 "nbformat": 4,
 "nbformat_minor": 5
}
